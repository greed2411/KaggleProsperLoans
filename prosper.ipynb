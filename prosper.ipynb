{
 "cells": [
  {
   "cell_type": "code",
   "execution_count": 1,
   "metadata": {},
   "outputs": [
    {
     "name": "stderr",
     "output_type": "stream",
     "text": [
      "/home/greed/anaconda3/lib/python3.6/site-packages/sklearn/cross_validation.py:41: DeprecationWarning: This module was deprecated in version 0.18 in favor of the model_selection module into which all the refactored classes and functions are moved. Also note that the interface of the new CV iterators are different from that of this module. This module will be removed in 0.20.\n",
      "  \"This module will be removed in 0.20.\", DeprecationWarning)\n",
      "/home/greed/anaconda3/lib/python3.6/site-packages/sklearn/grid_search.py:42: DeprecationWarning: This module was deprecated in version 0.18 in favor of the model_selection module into which all the refactored classes and functions are moved. This module will be removed in 0.20.\n",
      "  DeprecationWarning)\n"
     ]
    }
   ],
   "source": [
    "#Imports\n",
    "\n",
    "#Data analysis and math\n",
    "import math\n",
    "import datetime\n",
    "import numpy as np\n",
    "import pandas as pd\n",
    "from scipy import stats as st\n",
    "\n",
    "#Plotting\n",
    "import matplotlib.pyplot as plt\n",
    "import seaborn as sns\n",
    "%matplotlib inline\n",
    "sns.set_style(\"whitegrid\")\n",
    "sns.set_context({\"figure.figsize\": (15, 7.5)})\n",
    "\n",
    "#Preprocessing\n",
    "from sklearn.preprocessing import MinMaxScaler\n",
    "from sklearn.decomposition import PCA\n",
    "from sklearn.feature_selection import SelectPercentile\n",
    "\n",
    "#Machine learning\n",
    "from sklearn.linear_model import LogisticRegression\n",
    "from sklearn.discriminant_analysis import LinearDiscriminantAnalysis\n",
    "from sklearn.naive_bayes import GaussianNB\n",
    "from sklearn.tree import DecisionTreeClassifier\n",
    "from sklearn.ensemble import RandomForestClassifier, AdaBoostClassifier\n",
    "from sklearn.svm import SVC\n",
    "\n",
    "from sklearn.grid_search import GridSearchCV\n",
    "\n",
    "#Metrics\n",
    "from sklearn.cross_validation import train_test_split, cross_val_score, cross_val_predict\n",
    "\n",
    "from sklearn.metrics import recall_score, precision_score, f1_score, make_scorer, classification_report"
   ]
  },
  {
   "cell_type": "code",
   "execution_count": 2,
   "metadata": {},
   "outputs": [
    {
     "data": {
      "text/html": [
       "<div>\n",
       "<style scoped>\n",
       "    .dataframe tbody tr th:only-of-type {\n",
       "        vertical-align: middle;\n",
       "    }\n",
       "\n",
       "    .dataframe tbody tr th {\n",
       "        vertical-align: top;\n",
       "    }\n",
       "\n",
       "    .dataframe thead th {\n",
       "        text-align: right;\n",
       "    }\n",
       "</style>\n",
       "<table border=\"1\" class=\"dataframe\">\n",
       "  <thead>\n",
       "    <tr style=\"text-align: right;\">\n",
       "      <th></th>\n",
       "      <th>ListingKey</th>\n",
       "      <th>ListingNumber</th>\n",
       "      <th>ListingCreationDate</th>\n",
       "      <th>CreditGrade</th>\n",
       "      <th>Term</th>\n",
       "      <th>LoanStatus</th>\n",
       "      <th>ClosedDate</th>\n",
       "      <th>BorrowerAPR</th>\n",
       "      <th>BorrowerRate</th>\n",
       "      <th>LenderYield</th>\n",
       "      <th>...</th>\n",
       "      <th>LP_ServiceFees</th>\n",
       "      <th>LP_CollectionFees</th>\n",
       "      <th>LP_GrossPrincipalLoss</th>\n",
       "      <th>LP_NetPrincipalLoss</th>\n",
       "      <th>LP_NonPrincipalRecoverypayments</th>\n",
       "      <th>PercentFunded</th>\n",
       "      <th>Recommendations</th>\n",
       "      <th>InvestmentFromFriendsCount</th>\n",
       "      <th>InvestmentFromFriendsAmount</th>\n",
       "      <th>Investors</th>\n",
       "    </tr>\n",
       "  </thead>\n",
       "  <tbody>\n",
       "    <tr>\n",
       "      <th>0</th>\n",
       "      <td>1021339766868145413AB3B</td>\n",
       "      <td>193129</td>\n",
       "      <td>2007-08-26 19:09:29.263000000</td>\n",
       "      <td>C</td>\n",
       "      <td>36</td>\n",
       "      <td>Completed</td>\n",
       "      <td>2009-08-14 00:00:00</td>\n",
       "      <td>0.16516</td>\n",
       "      <td>0.1580</td>\n",
       "      <td>0.1380</td>\n",
       "      <td>...</td>\n",
       "      <td>-133.18</td>\n",
       "      <td>0.0</td>\n",
       "      <td>0.0</td>\n",
       "      <td>0.0</td>\n",
       "      <td>0.0</td>\n",
       "      <td>1.0</td>\n",
       "      <td>0</td>\n",
       "      <td>0</td>\n",
       "      <td>0.0</td>\n",
       "      <td>258</td>\n",
       "    </tr>\n",
       "    <tr>\n",
       "      <th>1</th>\n",
       "      <td>10273602499503308B223C1</td>\n",
       "      <td>1209647</td>\n",
       "      <td>2014-02-27 08:28:07.900000000</td>\n",
       "      <td>NaN</td>\n",
       "      <td>36</td>\n",
       "      <td>Current</td>\n",
       "      <td>NaN</td>\n",
       "      <td>0.12016</td>\n",
       "      <td>0.0920</td>\n",
       "      <td>0.0820</td>\n",
       "      <td>...</td>\n",
       "      <td>0.00</td>\n",
       "      <td>0.0</td>\n",
       "      <td>0.0</td>\n",
       "      <td>0.0</td>\n",
       "      <td>0.0</td>\n",
       "      <td>1.0</td>\n",
       "      <td>0</td>\n",
       "      <td>0</td>\n",
       "      <td>0.0</td>\n",
       "      <td>1</td>\n",
       "    </tr>\n",
       "    <tr>\n",
       "      <th>2</th>\n",
       "      <td>0EE9337825851032864889A</td>\n",
       "      <td>81716</td>\n",
       "      <td>2007-01-05 15:00:47.090000000</td>\n",
       "      <td>HR</td>\n",
       "      <td>36</td>\n",
       "      <td>Completed</td>\n",
       "      <td>2009-12-17 00:00:00</td>\n",
       "      <td>0.28269</td>\n",
       "      <td>0.2750</td>\n",
       "      <td>0.2400</td>\n",
       "      <td>...</td>\n",
       "      <td>-24.20</td>\n",
       "      <td>0.0</td>\n",
       "      <td>0.0</td>\n",
       "      <td>0.0</td>\n",
       "      <td>0.0</td>\n",
       "      <td>1.0</td>\n",
       "      <td>0</td>\n",
       "      <td>0</td>\n",
       "      <td>0.0</td>\n",
       "      <td>41</td>\n",
       "    </tr>\n",
       "    <tr>\n",
       "      <th>3</th>\n",
       "      <td>0EF5356002482715299901A</td>\n",
       "      <td>658116</td>\n",
       "      <td>2012-10-22 11:02:35.010000000</td>\n",
       "      <td>NaN</td>\n",
       "      <td>36</td>\n",
       "      <td>Current</td>\n",
       "      <td>NaN</td>\n",
       "      <td>0.12528</td>\n",
       "      <td>0.0974</td>\n",
       "      <td>0.0874</td>\n",
       "      <td>...</td>\n",
       "      <td>-108.01</td>\n",
       "      <td>0.0</td>\n",
       "      <td>0.0</td>\n",
       "      <td>0.0</td>\n",
       "      <td>0.0</td>\n",
       "      <td>1.0</td>\n",
       "      <td>0</td>\n",
       "      <td>0</td>\n",
       "      <td>0.0</td>\n",
       "      <td>158</td>\n",
       "    </tr>\n",
       "    <tr>\n",
       "      <th>4</th>\n",
       "      <td>0F023589499656230C5E3E2</td>\n",
       "      <td>909464</td>\n",
       "      <td>2013-09-14 18:38:39.097000000</td>\n",
       "      <td>NaN</td>\n",
       "      <td>36</td>\n",
       "      <td>Current</td>\n",
       "      <td>NaN</td>\n",
       "      <td>0.24614</td>\n",
       "      <td>0.2085</td>\n",
       "      <td>0.1985</td>\n",
       "      <td>...</td>\n",
       "      <td>-60.27</td>\n",
       "      <td>0.0</td>\n",
       "      <td>0.0</td>\n",
       "      <td>0.0</td>\n",
       "      <td>0.0</td>\n",
       "      <td>1.0</td>\n",
       "      <td>0</td>\n",
       "      <td>0</td>\n",
       "      <td>0.0</td>\n",
       "      <td>20</td>\n",
       "    </tr>\n",
       "  </tbody>\n",
       "</table>\n",
       "<p>5 rows × 81 columns</p>\n",
       "</div>"
      ],
      "text/plain": [
       "                ListingKey  ListingNumber            ListingCreationDate  \\\n",
       "0  1021339766868145413AB3B         193129  2007-08-26 19:09:29.263000000   \n",
       "1  10273602499503308B223C1        1209647  2014-02-27 08:28:07.900000000   \n",
       "2  0EE9337825851032864889A          81716  2007-01-05 15:00:47.090000000   \n",
       "3  0EF5356002482715299901A         658116  2012-10-22 11:02:35.010000000   \n",
       "4  0F023589499656230C5E3E2         909464  2013-09-14 18:38:39.097000000   \n",
       "\n",
       "  CreditGrade  Term LoanStatus           ClosedDate  BorrowerAPR  \\\n",
       "0           C    36  Completed  2009-08-14 00:00:00      0.16516   \n",
       "1         NaN    36    Current                  NaN      0.12016   \n",
       "2          HR    36  Completed  2009-12-17 00:00:00      0.28269   \n",
       "3         NaN    36    Current                  NaN      0.12528   \n",
       "4         NaN    36    Current                  NaN      0.24614   \n",
       "\n",
       "   BorrowerRate  LenderYield    ...     LP_ServiceFees  LP_CollectionFees  \\\n",
       "0        0.1580       0.1380    ...            -133.18                0.0   \n",
       "1        0.0920       0.0820    ...               0.00                0.0   \n",
       "2        0.2750       0.2400    ...             -24.20                0.0   \n",
       "3        0.0974       0.0874    ...            -108.01                0.0   \n",
       "4        0.2085       0.1985    ...             -60.27                0.0   \n",
       "\n",
       "   LP_GrossPrincipalLoss  LP_NetPrincipalLoss LP_NonPrincipalRecoverypayments  \\\n",
       "0                    0.0                  0.0                             0.0   \n",
       "1                    0.0                  0.0                             0.0   \n",
       "2                    0.0                  0.0                             0.0   \n",
       "3                    0.0                  0.0                             0.0   \n",
       "4                    0.0                  0.0                             0.0   \n",
       "\n",
       "   PercentFunded  Recommendations InvestmentFromFriendsCount  \\\n",
       "0            1.0                0                          0   \n",
       "1            1.0                0                          0   \n",
       "2            1.0                0                          0   \n",
       "3            1.0                0                          0   \n",
       "4            1.0                0                          0   \n",
       "\n",
       "  InvestmentFromFriendsAmount Investors  \n",
       "0                         0.0       258  \n",
       "1                         0.0         1  \n",
       "2                         0.0        41  \n",
       "3                         0.0       158  \n",
       "4                         0.0        20  \n",
       "\n",
       "[5 rows x 81 columns]"
      ]
     },
     "execution_count": 2,
     "metadata": {},
     "output_type": "execute_result"
    }
   ],
   "source": [
    "df = pd.read_csv('prosperLoanData.csv')\n",
    "df.head()"
   ]
  },
  {
   "cell_type": "code",
   "execution_count": 3,
   "metadata": {},
   "outputs": [
    {
     "data": {
      "text/plain": [
       "(113937, 81)"
      ]
     },
     "execution_count": 3,
     "metadata": {},
     "output_type": "execute_result"
    }
   ],
   "source": [
    "df.shape"
   ]
  },
  {
   "cell_type": "code",
   "execution_count": 4,
   "metadata": {},
   "outputs": [
    {
     "data": {
      "text/html": [
       "<div>\n",
       "<style scoped>\n",
       "    .dataframe tbody tr th:only-of-type {\n",
       "        vertical-align: middle;\n",
       "    }\n",
       "\n",
       "    .dataframe tbody tr th {\n",
       "        vertical-align: top;\n",
       "    }\n",
       "\n",
       "    .dataframe thead th {\n",
       "        text-align: right;\n",
       "    }\n",
       "</style>\n",
       "<table border=\"1\" class=\"dataframe\">\n",
       "  <thead>\n",
       "    <tr style=\"text-align: right;\">\n",
       "      <th></th>\n",
       "      <th>ListingNumber</th>\n",
       "      <th>Term</th>\n",
       "      <th>BorrowerAPR</th>\n",
       "      <th>BorrowerRate</th>\n",
       "      <th>LenderYield</th>\n",
       "      <th>EstimatedEffectiveYield</th>\n",
       "      <th>EstimatedLoss</th>\n",
       "      <th>EstimatedReturn</th>\n",
       "      <th>ProsperRating (numeric)</th>\n",
       "      <th>ProsperScore</th>\n",
       "      <th>...</th>\n",
       "      <th>LP_ServiceFees</th>\n",
       "      <th>LP_CollectionFees</th>\n",
       "      <th>LP_GrossPrincipalLoss</th>\n",
       "      <th>LP_NetPrincipalLoss</th>\n",
       "      <th>LP_NonPrincipalRecoverypayments</th>\n",
       "      <th>PercentFunded</th>\n",
       "      <th>Recommendations</th>\n",
       "      <th>InvestmentFromFriendsCount</th>\n",
       "      <th>InvestmentFromFriendsAmount</th>\n",
       "      <th>Investors</th>\n",
       "    </tr>\n",
       "  </thead>\n",
       "  <tbody>\n",
       "    <tr>\n",
       "      <th>count</th>\n",
       "      <td>1.139370e+05</td>\n",
       "      <td>113937.000000</td>\n",
       "      <td>113912.000000</td>\n",
       "      <td>113937.000000</td>\n",
       "      <td>113937.000000</td>\n",
       "      <td>84853.000000</td>\n",
       "      <td>84853.000000</td>\n",
       "      <td>84853.000000</td>\n",
       "      <td>84853.000000</td>\n",
       "      <td>84853.000000</td>\n",
       "      <td>...</td>\n",
       "      <td>113937.000000</td>\n",
       "      <td>113937.000000</td>\n",
       "      <td>113937.000000</td>\n",
       "      <td>113937.000000</td>\n",
       "      <td>113937.000000</td>\n",
       "      <td>113937.000000</td>\n",
       "      <td>113937.000000</td>\n",
       "      <td>113937.000000</td>\n",
       "      <td>113937.000000</td>\n",
       "      <td>113937.000000</td>\n",
       "    </tr>\n",
       "    <tr>\n",
       "      <th>mean</th>\n",
       "      <td>6.278857e+05</td>\n",
       "      <td>40.830248</td>\n",
       "      <td>0.218828</td>\n",
       "      <td>0.192764</td>\n",
       "      <td>0.182701</td>\n",
       "      <td>0.168661</td>\n",
       "      <td>0.080306</td>\n",
       "      <td>0.096068</td>\n",
       "      <td>4.072243</td>\n",
       "      <td>5.950067</td>\n",
       "      <td>...</td>\n",
       "      <td>-54.725641</td>\n",
       "      <td>-14.242698</td>\n",
       "      <td>700.446342</td>\n",
       "      <td>681.420499</td>\n",
       "      <td>25.142686</td>\n",
       "      <td>0.998584</td>\n",
       "      <td>0.048027</td>\n",
       "      <td>0.023460</td>\n",
       "      <td>16.550751</td>\n",
       "      <td>80.475228</td>\n",
       "    </tr>\n",
       "    <tr>\n",
       "      <th>std</th>\n",
       "      <td>3.280762e+05</td>\n",
       "      <td>10.436212</td>\n",
       "      <td>0.080364</td>\n",
       "      <td>0.074818</td>\n",
       "      <td>0.074516</td>\n",
       "      <td>0.068467</td>\n",
       "      <td>0.046764</td>\n",
       "      <td>0.030403</td>\n",
       "      <td>1.673227</td>\n",
       "      <td>2.376501</td>\n",
       "      <td>...</td>\n",
       "      <td>60.675425</td>\n",
       "      <td>109.232758</td>\n",
       "      <td>2388.513831</td>\n",
       "      <td>2357.167068</td>\n",
       "      <td>275.657937</td>\n",
       "      <td>0.017919</td>\n",
       "      <td>0.332353</td>\n",
       "      <td>0.232412</td>\n",
       "      <td>294.545422</td>\n",
       "      <td>103.239020</td>\n",
       "    </tr>\n",
       "    <tr>\n",
       "      <th>min</th>\n",
       "      <td>4.000000e+00</td>\n",
       "      <td>12.000000</td>\n",
       "      <td>0.006530</td>\n",
       "      <td>0.000000</td>\n",
       "      <td>-0.010000</td>\n",
       "      <td>-0.182700</td>\n",
       "      <td>0.004900</td>\n",
       "      <td>-0.182700</td>\n",
       "      <td>1.000000</td>\n",
       "      <td>1.000000</td>\n",
       "      <td>...</td>\n",
       "      <td>-664.870000</td>\n",
       "      <td>-9274.750000</td>\n",
       "      <td>-94.200000</td>\n",
       "      <td>-954.550000</td>\n",
       "      <td>0.000000</td>\n",
       "      <td>0.700000</td>\n",
       "      <td>0.000000</td>\n",
       "      <td>0.000000</td>\n",
       "      <td>0.000000</td>\n",
       "      <td>1.000000</td>\n",
       "    </tr>\n",
       "    <tr>\n",
       "      <th>25%</th>\n",
       "      <td>4.009190e+05</td>\n",
       "      <td>36.000000</td>\n",
       "      <td>0.156290</td>\n",
       "      <td>0.134000</td>\n",
       "      <td>0.124200</td>\n",
       "      <td>0.115670</td>\n",
       "      <td>0.042400</td>\n",
       "      <td>0.074080</td>\n",
       "      <td>3.000000</td>\n",
       "      <td>4.000000</td>\n",
       "      <td>...</td>\n",
       "      <td>-73.180000</td>\n",
       "      <td>0.000000</td>\n",
       "      <td>0.000000</td>\n",
       "      <td>0.000000</td>\n",
       "      <td>0.000000</td>\n",
       "      <td>1.000000</td>\n",
       "      <td>0.000000</td>\n",
       "      <td>0.000000</td>\n",
       "      <td>0.000000</td>\n",
       "      <td>2.000000</td>\n",
       "    </tr>\n",
       "    <tr>\n",
       "      <th>50%</th>\n",
       "      <td>6.005540e+05</td>\n",
       "      <td>36.000000</td>\n",
       "      <td>0.209760</td>\n",
       "      <td>0.184000</td>\n",
       "      <td>0.173000</td>\n",
       "      <td>0.161500</td>\n",
       "      <td>0.072400</td>\n",
       "      <td>0.091700</td>\n",
       "      <td>4.000000</td>\n",
       "      <td>6.000000</td>\n",
       "      <td>...</td>\n",
       "      <td>-34.440000</td>\n",
       "      <td>0.000000</td>\n",
       "      <td>0.000000</td>\n",
       "      <td>0.000000</td>\n",
       "      <td>0.000000</td>\n",
       "      <td>1.000000</td>\n",
       "      <td>0.000000</td>\n",
       "      <td>0.000000</td>\n",
       "      <td>0.000000</td>\n",
       "      <td>44.000000</td>\n",
       "    </tr>\n",
       "    <tr>\n",
       "      <th>75%</th>\n",
       "      <td>8.926340e+05</td>\n",
       "      <td>36.000000</td>\n",
       "      <td>0.283810</td>\n",
       "      <td>0.250000</td>\n",
       "      <td>0.240000</td>\n",
       "      <td>0.224300</td>\n",
       "      <td>0.112000</td>\n",
       "      <td>0.116600</td>\n",
       "      <td>5.000000</td>\n",
       "      <td>8.000000</td>\n",
       "      <td>...</td>\n",
       "      <td>-13.920000</td>\n",
       "      <td>0.000000</td>\n",
       "      <td>0.000000</td>\n",
       "      <td>0.000000</td>\n",
       "      <td>0.000000</td>\n",
       "      <td>1.000000</td>\n",
       "      <td>0.000000</td>\n",
       "      <td>0.000000</td>\n",
       "      <td>0.000000</td>\n",
       "      <td>115.000000</td>\n",
       "    </tr>\n",
       "    <tr>\n",
       "      <th>max</th>\n",
       "      <td>1.255725e+06</td>\n",
       "      <td>60.000000</td>\n",
       "      <td>0.512290</td>\n",
       "      <td>0.497500</td>\n",
       "      <td>0.492500</td>\n",
       "      <td>0.319900</td>\n",
       "      <td>0.366000</td>\n",
       "      <td>0.283700</td>\n",
       "      <td>7.000000</td>\n",
       "      <td>11.000000</td>\n",
       "      <td>...</td>\n",
       "      <td>32.060000</td>\n",
       "      <td>0.000000</td>\n",
       "      <td>25000.000000</td>\n",
       "      <td>25000.000000</td>\n",
       "      <td>21117.900000</td>\n",
       "      <td>1.012500</td>\n",
       "      <td>39.000000</td>\n",
       "      <td>33.000000</td>\n",
       "      <td>25000.000000</td>\n",
       "      <td>1189.000000</td>\n",
       "    </tr>\n",
       "  </tbody>\n",
       "</table>\n",
       "<p>8 rows × 61 columns</p>\n",
       "</div>"
      ],
      "text/plain": [
       "       ListingNumber           Term    BorrowerAPR   BorrowerRate  \\\n",
       "count   1.139370e+05  113937.000000  113912.000000  113937.000000   \n",
       "mean    6.278857e+05      40.830248       0.218828       0.192764   \n",
       "std     3.280762e+05      10.436212       0.080364       0.074818   \n",
       "min     4.000000e+00      12.000000       0.006530       0.000000   \n",
       "25%     4.009190e+05      36.000000       0.156290       0.134000   \n",
       "50%     6.005540e+05      36.000000       0.209760       0.184000   \n",
       "75%     8.926340e+05      36.000000       0.283810       0.250000   \n",
       "max     1.255725e+06      60.000000       0.512290       0.497500   \n",
       "\n",
       "         LenderYield  EstimatedEffectiveYield  EstimatedLoss  EstimatedReturn  \\\n",
       "count  113937.000000             84853.000000   84853.000000     84853.000000   \n",
       "mean        0.182701                 0.168661       0.080306         0.096068   \n",
       "std         0.074516                 0.068467       0.046764         0.030403   \n",
       "min        -0.010000                -0.182700       0.004900        -0.182700   \n",
       "25%         0.124200                 0.115670       0.042400         0.074080   \n",
       "50%         0.173000                 0.161500       0.072400         0.091700   \n",
       "75%         0.240000                 0.224300       0.112000         0.116600   \n",
       "max         0.492500                 0.319900       0.366000         0.283700   \n",
       "\n",
       "       ProsperRating (numeric)  ProsperScore      ...        LP_ServiceFees  \\\n",
       "count             84853.000000  84853.000000      ...         113937.000000   \n",
       "mean                  4.072243      5.950067      ...            -54.725641   \n",
       "std                   1.673227      2.376501      ...             60.675425   \n",
       "min                   1.000000      1.000000      ...           -664.870000   \n",
       "25%                   3.000000      4.000000      ...            -73.180000   \n",
       "50%                   4.000000      6.000000      ...            -34.440000   \n",
       "75%                   5.000000      8.000000      ...            -13.920000   \n",
       "max                   7.000000     11.000000      ...             32.060000   \n",
       "\n",
       "       LP_CollectionFees  LP_GrossPrincipalLoss  LP_NetPrincipalLoss  \\\n",
       "count      113937.000000          113937.000000        113937.000000   \n",
       "mean          -14.242698             700.446342           681.420499   \n",
       "std           109.232758            2388.513831          2357.167068   \n",
       "min         -9274.750000             -94.200000          -954.550000   \n",
       "25%             0.000000               0.000000             0.000000   \n",
       "50%             0.000000               0.000000             0.000000   \n",
       "75%             0.000000               0.000000             0.000000   \n",
       "max             0.000000           25000.000000         25000.000000   \n",
       "\n",
       "       LP_NonPrincipalRecoverypayments  PercentFunded  Recommendations  \\\n",
       "count                    113937.000000  113937.000000    113937.000000   \n",
       "mean                         25.142686       0.998584         0.048027   \n",
       "std                         275.657937       0.017919         0.332353   \n",
       "min                           0.000000       0.700000         0.000000   \n",
       "25%                           0.000000       1.000000         0.000000   \n",
       "50%                           0.000000       1.000000         0.000000   \n",
       "75%                           0.000000       1.000000         0.000000   \n",
       "max                       21117.900000       1.012500        39.000000   \n",
       "\n",
       "       InvestmentFromFriendsCount  InvestmentFromFriendsAmount      Investors  \n",
       "count               113937.000000                113937.000000  113937.000000  \n",
       "mean                     0.023460                    16.550751      80.475228  \n",
       "std                      0.232412                   294.545422     103.239020  \n",
       "min                      0.000000                     0.000000       1.000000  \n",
       "25%                      0.000000                     0.000000       2.000000  \n",
       "50%                      0.000000                     0.000000      44.000000  \n",
       "75%                      0.000000                     0.000000     115.000000  \n",
       "max                     33.000000                 25000.000000    1189.000000  \n",
       "\n",
       "[8 rows x 61 columns]"
      ]
     },
     "execution_count": 4,
     "metadata": {},
     "output_type": "execute_result"
    }
   ],
   "source": [
    "df.describe()"
   ]
  },
  {
   "cell_type": "code",
   "execution_count": 5,
   "metadata": {},
   "outputs": [
    {
     "data": {
      "text/plain": [
       "ListingKey                                  0\n",
       "ListingNumber                               0\n",
       "ListingCreationDate                         0\n",
       "CreditGrade                             84984\n",
       "Term                                        0\n",
       "LoanStatus                                  0\n",
       "ClosedDate                              58848\n",
       "BorrowerAPR                                25\n",
       "BorrowerRate                                0\n",
       "LenderYield                                 0\n",
       "EstimatedEffectiveYield                 29084\n",
       "EstimatedLoss                           29084\n",
       "EstimatedReturn                         29084\n",
       "ProsperRating (numeric)                 29084\n",
       "ProsperRating (Alpha)                   29084\n",
       "ProsperScore                            29084\n",
       "ListingCategory (numeric)                   0\n",
       "BorrowerState                            5515\n",
       "Occupation                               3588\n",
       "EmploymentStatus                         2255\n",
       "EmploymentStatusDuration                 7625\n",
       "IsBorrowerHomeowner                         0\n",
       "CurrentlyInGroup                            0\n",
       "GroupKey                               100596\n",
       "DateCreditPulled                            0\n",
       "CreditScoreRangeLower                     591\n",
       "CreditScoreRangeUpper                     591\n",
       "FirstRecordedCreditLine                   697\n",
       "CurrentCreditLines                       7604\n",
       "OpenCreditLines                          7604\n",
       "                                        ...  \n",
       "TotalProsperLoans                       91852\n",
       "TotalProsperPaymentsBilled              91852\n",
       "OnTimeProsperPayments                   91852\n",
       "ProsperPaymentsLessThanOneMonthLate     91852\n",
       "ProsperPaymentsOneMonthPlusLate         91852\n",
       "ProsperPrincipalBorrowed                91852\n",
       "ProsperPrincipalOutstanding             91852\n",
       "ScorexChangeAtTimeOfListing             95009\n",
       "LoanCurrentDaysDelinquent                   0\n",
       "LoanFirstDefaultedCycleNumber           96985\n",
       "LoanMonthsSinceOrigination                  0\n",
       "LoanNumber                                  0\n",
       "LoanOriginalAmount                          0\n",
       "LoanOriginationDate                         0\n",
       "LoanOriginationQuarter                      0\n",
       "MemberKey                                   0\n",
       "MonthlyLoanPayment                          0\n",
       "LP_CustomerPayments                         0\n",
       "LP_CustomerPrincipalPayments                0\n",
       "LP_InterestandFees                          0\n",
       "LP_ServiceFees                              0\n",
       "LP_CollectionFees                           0\n",
       "LP_GrossPrincipalLoss                       0\n",
       "LP_NetPrincipalLoss                         0\n",
       "LP_NonPrincipalRecoverypayments             0\n",
       "PercentFunded                               0\n",
       "Recommendations                             0\n",
       "InvestmentFromFriendsCount                  0\n",
       "InvestmentFromFriendsAmount                 0\n",
       "Investors                                   0\n",
       "Length: 81, dtype: int64"
      ]
     },
     "execution_count": 5,
     "metadata": {},
     "output_type": "execute_result"
    }
   ],
   "source": [
    "df.isnull().sum()"
   ]
  },
  {
   "cell_type": "code",
   "execution_count": 6,
   "metadata": {},
   "outputs": [
    {
     "data": {
      "text/plain": [
       "100596"
      ]
     },
     "execution_count": 6,
     "metadata": {},
     "output_type": "execute_result"
    }
   ],
   "source": [
    "df.isnull().sum().max()"
   ]
  },
  {
   "cell_type": "code",
   "execution_count": 7,
   "metadata": {},
   "outputs": [
    {
     "data": {
      "text/plain": [
       "ListingKey                 0\n",
       "ListingCreationDate        0\n",
       "CreditGrade                0\n",
       "LoanStatus                 0\n",
       "ClosedDate                 0\n",
       "ProsperRating (Alpha)      0\n",
       "BorrowerState              0\n",
       "Occupation                 0\n",
       "EmploymentStatus           0\n",
       "IsBorrowerHomeowner        0\n",
       "CurrentlyInGroup           0\n",
       "GroupKey                   0\n",
       "DateCreditPulled           0\n",
       "FirstRecordedCreditLine    0\n",
       "IncomeRange                0\n",
       "IncomeVerifiable           0\n",
       "LoanKey                    0\n",
       "LoanOriginationDate        0\n",
       "LoanOriginationQuarter     0\n",
       "MemberKey                  0\n",
       "dtype: int64"
      ]
     },
     "execution_count": 7,
     "metadata": {},
     "output_type": "execute_result"
    }
   ],
   "source": [
    "categorical = df.select_dtypes(include=[\"object\"]).columns.values\n",
    "df[categorical] = df[categorical].fillna(\"Unknown\")\n",
    "df.select_dtypes(exclude=[np.number]).isnull().sum()"
   ]
  },
  {
   "cell_type": "code",
   "execution_count": 8,
   "metadata": {},
   "outputs": [],
   "source": [
    "borrower_fees = df[\"BorrowerAPR\"] - df[\"BorrowerRate\"]\n",
    "df[\"BorrowerAPR\"].fillna(df[\"BorrowerRate\"] + borrower_fees.median(), inplace=True)\n",
    "\n",
    "estimated_loss_from_fees = df[\"BorrowerRate\"] - df[\"EstimatedEffectiveYield\"]\n",
    "df[\"EstimatedEffectiveYield\"].fillna(df[\"BorrowerRate\"] - estimated_loss_from_fees.median(), inplace=True)\n",
    "\n",
    "df[\"EstimatedLoss\"].fillna(df[\"EstimatedLoss\"].median(), inplace=True)\n",
    "\n",
    "df[\"EstimatedReturn\"].fillna(df[\"EstimatedEffectiveYield\"] - df[\"EstimatedLoss\"], inplace=True)\n",
    "\n",
    "df[\"ProsperRating (numeric)\"].fillna(df[\"ProsperRating (numeric)\"].median(), inplace=True)\n",
    "\n",
    "df[\"ProsperScore\"].fillna(df[\"ProsperScore\"].median(), inplace=True)\n",
    "\n",
    "df.dropna(subset=[\"EmploymentStatusDuration\", \"CreditScoreRangeLower\", \"FirstRecordedCreditLine\", \"CurrentCreditLines\",\n",
    "                  \"TotalCreditLinespast7years\"], inplace=True)\n",
    "\n",
    "df[\"DebtToIncomeRatio\"].fillna(df[\"MonthlyLoanPayment\"] / (df[\"StatedMonthlyIncome\"] + 1), inplace = True)\n",
    "\n",
    "df.drop(\"ScorexChangeAtTimeOfListing\", axis=1, inplace=True)\n",
    "\n",
    "prosper_vars = [\"TotalProsperLoans\",\"TotalProsperPaymentsBilled\", \"OnTimeProsperPayments\", \"ProsperPaymentsLessThanOneMonthLate\",\n",
    "                \"ProsperPaymentsOneMonthPlusLate\", \"ProsperPrincipalBorrowed\", \"ProsperPrincipalOutstanding\"]\n",
    "\n",
    "df[prosper_vars] = df[prosper_vars].fillna(0)\n",
    "\n",
    "df.drop([\"ListingKey\", \"ListingNumber\", \"LoanKey\", \"LoanNumber\"], axis=1, inplace=True)\n",
    "\n",
    "df.drop([\"ListingCreationDate\", \"ClosedDate\", \"DateCreditPulled\", \"LoanOriginationDate\", \"LoanOriginationQuarter\", \"MemberKey\"],\n",
    "        axis=1, inplace=True)\n",
    "\n",
    "df.drop([\"LoanCurrentDaysDelinquent\", \"LoanFirstDefaultedCycleNumber\", \"LoanMonthsSinceOrigination\", \"LP_CustomerPayments\",\n",
    "         \"LP_CustomerPrincipalPayments\", \"LP_InterestandFees\", \"LP_ServiceFees\", \"LP_CollectionFees\", \"LP_GrossPrincipalLoss\",\n",
    "         \"LP_NetPrincipalLoss\", \"LP_NonPrincipalRecoverypayments\"], axis=1, inplace=True)"
   ]
  },
  {
   "cell_type": "code",
   "execution_count": 9,
   "metadata": {},
   "outputs": [
    {
     "data": {
      "text/plain": [
       "CreditGrade                            0\n",
       "Term                                   0\n",
       "LoanStatus                             0\n",
       "BorrowerAPR                            0\n",
       "BorrowerRate                           0\n",
       "LenderYield                            0\n",
       "EstimatedEffectiveYield                0\n",
       "EstimatedLoss                          0\n",
       "EstimatedReturn                        0\n",
       "ProsperRating (numeric)                0\n",
       "ProsperRating (Alpha)                  0\n",
       "ProsperScore                           0\n",
       "ListingCategory (numeric)              0\n",
       "BorrowerState                          0\n",
       "Occupation                             0\n",
       "EmploymentStatus                       0\n",
       "EmploymentStatusDuration               0\n",
       "IsBorrowerHomeowner                    0\n",
       "CurrentlyInGroup                       0\n",
       "GroupKey                               0\n",
       "CreditScoreRangeLower                  0\n",
       "CreditScoreRangeUpper                  0\n",
       "FirstRecordedCreditLine                0\n",
       "CurrentCreditLines                     0\n",
       "OpenCreditLines                        0\n",
       "TotalCreditLinespast7years             0\n",
       "OpenRevolvingAccounts                  0\n",
       "OpenRevolvingMonthlyPayment            0\n",
       "InquiriesLast6Months                   0\n",
       "TotalInquiries                         0\n",
       "CurrentDelinquencies                   0\n",
       "AmountDelinquent                       0\n",
       "DelinquenciesLast7Years                0\n",
       "PublicRecordsLast10Years               0\n",
       "PublicRecordsLast12Months              0\n",
       "RevolvingCreditBalance                 0\n",
       "BankcardUtilization                    0\n",
       "AvailableBankcardCredit                0\n",
       "TotalTrades                            0\n",
       "TradesNeverDelinquent (percentage)     0\n",
       "TradesOpenedLast6Months                0\n",
       "DebtToIncomeRatio                      0\n",
       "IncomeRange                            0\n",
       "IncomeVerifiable                       0\n",
       "StatedMonthlyIncome                    0\n",
       "TotalProsperLoans                      0\n",
       "TotalProsperPaymentsBilled             0\n",
       "OnTimeProsperPayments                  0\n",
       "ProsperPaymentsLessThanOneMonthLate    0\n",
       "ProsperPaymentsOneMonthPlusLate        0\n",
       "ProsperPrincipalBorrowed               0\n",
       "ProsperPrincipalOutstanding            0\n",
       "LoanOriginalAmount                     0\n",
       "MonthlyLoanPayment                     0\n",
       "PercentFunded                          0\n",
       "Recommendations                        0\n",
       "InvestmentFromFriendsCount             0\n",
       "InvestmentFromFriendsAmount            0\n",
       "Investors                              0\n",
       "dtype: int64"
      ]
     },
     "execution_count": 9,
     "metadata": {},
     "output_type": "execute_result"
    }
   ],
   "source": [
    "df.isnull().sum()"
   ]
  },
  {
   "cell_type": "code",
   "execution_count": 10,
   "metadata": {},
   "outputs": [
    {
     "data": {
      "text/plain": [
       "(106290, 59)"
      ]
     },
     "execution_count": 10,
     "metadata": {},
     "output_type": "execute_result"
    }
   ],
   "source": [
    "df.shape"
   ]
  },
  {
   "cell_type": "code",
   "execution_count": 11,
   "metadata": {},
   "outputs": [
    {
     "data": {
      "text/plain": [
       "Current                   56566\n",
       "Completed                 33530\n",
       "Chargedoff                10632\n",
       "Defaulted                  3289\n",
       "Past Due (1-15 days)        806\n",
       "Past Due (31-60 days)       363\n",
       "Past Due (61-90 days)       313\n",
       "Past Due (91-120 days)      304\n",
       "Past Due (16-30 days)       265\n",
       "FinalPaymentInProgress      205\n",
       "Past Due (>120 days)         16\n",
       "Cancelled                     1\n",
       "Name: LoanStatus, dtype: int64"
      ]
     },
     "execution_count": 11,
     "metadata": {},
     "output_type": "execute_result"
    }
   ],
   "source": [
    "df[\"LoanStatus\"].value_counts()"
   ]
  },
  {
   "cell_type": "markdown",
   "metadata": {},
   "source": [
    "What is really of interest to us is what distinguishes completed loans from defaulted loans. Because there is no way to tell whether \"current\" loans will eventually default or not, we can't use them for our analysis. Nearly half of the dataset is not useful to us, as the loans are still outstanding. In order to be conservative in our eventual estimates, to simplify the problem, and to retain data, let's assume all the \"past due\" and \"chargedoff\" loans (and that 1 cancellation) will default. Thus we'll be left with two classes: \"completed\" and \"defaulted\". Let's encode those binary outcomes as 1 and 0, respectively."
   ]
  },
  {
   "cell_type": "code",
   "execution_count": 12,
   "metadata": {},
   "outputs": [
    {
     "data": {
      "text/plain": [
       "Completed                 33530\n",
       "Chargedoff                10632\n",
       "Defaulted                  3289\n",
       "Past Due (1-15 days)        806\n",
       "Past Due (31-60 days)       363\n",
       "Past Due (61-90 days)       313\n",
       "Past Due (91-120 days)      304\n",
       "Past Due (16-30 days)       265\n",
       "FinalPaymentInProgress      205\n",
       "Past Due (>120 days)         16\n",
       "Cancelled                     1\n",
       "Name: LoanStatus, dtype: int64"
      ]
     },
     "execution_count": 12,
     "metadata": {},
     "output_type": "execute_result"
    }
   ],
   "source": [
    "#Remove outstanding loans\n",
    "\n",
    "df_historical = df[df[\"LoanStatus\"] != \"Current\"]\n",
    "\n",
    "df_historical[\"LoanStatus\"].value_counts()"
   ]
  },
  {
   "cell_type": "code",
   "execution_count": 13,
   "metadata": {},
   "outputs": [
    {
     "name": "stderr",
     "output_type": "stream",
     "text": [
      "/home/greed/anaconda3/lib/python3.6/site-packages/ipykernel_launcher.py:1: SettingWithCopyWarning: \n",
      "A value is trying to be set on a copy of a slice from a DataFrame.\n",
      "Try using .loc[row_indexer,col_indexer] = value instead\n",
      "\n",
      "See the caveats in the documentation: http://pandas.pydata.org/pandas-docs/stable/indexing.html#indexing-view-versus-copy\n",
      "  \"\"\"Entry point for launching an IPython kernel.\n"
     ]
    },
    {
     "data": {
      "text/plain": [
       "0     1\n",
       "11    1\n",
       "12    0\n",
       "15    0\n",
       "21    1\n",
       "23    0\n",
       "26    1\n",
       "27    1\n",
       "30    1\n",
       "33    1\n",
       "Name: LoanStatus, dtype: int64"
      ]
     },
     "execution_count": 13,
     "metadata": {},
     "output_type": "execute_result"
    }
   ],
   "source": [
    "df_historical[\"LoanStatus\"] = (df_historical[\"LoanStatus\"] == \"Completed\").astype(int)\n",
    "df_historical[\"LoanStatus\"][:10]"
   ]
  },
  {
   "cell_type": "code",
   "execution_count": 14,
   "metadata": {},
   "outputs": [
    {
     "data": {
      "text/plain": [
       "(0, 1)"
      ]
     },
     "execution_count": 14,
     "metadata": {},
     "output_type": "execute_result"
    },
    {
     "data": {
      "image/png": "[encoded data removed]",
      "text/plain": [
       "<Figure size 432x288 with 2 Axes>"
      ]
     },
     "metadata": {},
     "output_type": "display_data"
    }
   ],
   "source": [
    "fig = plt.figure()\n",
    "\n",
    "ax1 = fig.add_subplot(221)\n",
    "sns.countplot(df_historical[\"LoanStatus\"])\n",
    "\n",
    "ax2 = fig.add_subplot(222)\n",
    "sns.barplot(y=df_historical[\"LoanStatus\"]).set_ylim([0,1])"
   ]
  },
  {
   "cell_type": "code",
   "execution_count": 15,
   "metadata": {},
   "outputs": [
    {
     "data": {
      "text/plain": [
       "(0.6743222588689567, 0.3256777411310433)"
      ]
     },
     "execution_count": 15,
     "metadata": {},
     "output_type": "execute_result"
    }
   ],
   "source": [
    "df_historical[\"LoanStatus\"].mean(), 1 - df_historical[\"LoanStatus\"].mean()"
   ]
  },
  {
   "cell_type": "code",
   "execution_count": 16,
   "metadata": {},
   "outputs": [
    {
     "name": "stderr",
     "output_type": "stream",
     "text": [
      "/home/greed/anaconda3/lib/python3.6/site-packages/pandas/core/generic.py:5817: SettingWithCopyWarning: \n",
      "A value is trying to be set on a copy of a slice from a DataFrame.\n",
      "Try using .loc[row_indexer,col_indexer] = value instead\n",
      "\n",
      "See the caveats in the documentation: http://pandas.pydata.org/pandas-docs/stable/indexing.html#indexing-view-versus-copy\n",
      "  regex=regex)\n",
      "/home/greed/anaconda3/lib/python3.6/site-packages/pandas/core/frame.py:3778: SettingWithCopyWarning: \n",
      "A value is trying to be set on a copy of a slice from a DataFrame\n",
      "\n",
      "See the caveats in the documentation: http://pandas.pydata.org/pandas-docs/stable/indexing.html#indexing-view-versus-copy\n",
      "  return super(DataFrame, self).rename(**kwargs)\n"
     ]
    },
    {
     "data": {
      "text/plain": [
       "0       Unknown\n",
       "11      Unknown\n",
       "12         Debt\n",
       "15    Household\n",
       "21      Unknown\n",
       "23      Medical\n",
       "26         Debt\n",
       "27         Debt\n",
       "30      Wedding\n",
       "33        Other\n",
       "Name: ListingCategory, dtype: object"
      ]
     },
     "execution_count": 16,
     "metadata": {},
     "output_type": "execute_result"
    }
   ],
   "source": [
    "df_historical.replace(to_replace={\"ListingCategory (numeric)\": {0: \"Unknown\", 1: \"Debt\", 2: \"Reno\", 3: \"Business\", 4: \"Personal\",\n",
    "                                                                5: \"Student\", 6: \"Auto\", 7: \"Other\", 8: \"Baby\", 9: \"Boat\", \n",
    "                                                                10: \"Cosmetic\", 11: \"Engagement\", 12: \"Green\", 13: \"Household\",\n",
    "                                                                14: \"LargePurchase\", 15: \"Medical\", 16: \"Motorcycle\", 17: \"RV\",\n",
    "                                                                18: \"Taxes\", 19: \"Vacation\", 20: \"Wedding\"}}, inplace=True)\n",
    "\n",
    "df_historical.rename(index=str, columns={\"ListingCategory (numeric)\": \"ListingCategory\"}, inplace=True)\n",
    "\n",
    "df_historical[\"ListingCategory\"][:10]"
   ]
  },
  {
   "cell_type": "code",
   "execution_count": 17,
   "metadata": {},
   "outputs": [
    {
     "data": {
      "text/plain": [
       "<matplotlib.axes._subplots.AxesSubplot at 0x7f5929240908>"
      ]
     },
     "execution_count": 17,
     "metadata": {},
     "output_type": "execute_result"
    },
    {
     "data": {
      "image/png": "[encoded data removed]",
      "text/plain": [
       "<Figure size 432x288 with 1 Axes>"
      ]
     },
     "metadata": {},
     "output_type": "display_data"
    }
   ],
   "source": [
    "sns.barplot(x=\"ListingCategory\", y=\"LoanStatus\", data=df_historical)"
   ]
  },
  {
   "cell_type": "code",
   "execution_count": 18,
   "metadata": {},
   "outputs": [
    {
     "data": {
      "text/plain": [
       "19.0    49724\n",
       "dtype: int64"
      ]
     },
     "execution_count": 18,
     "metadata": {},
     "output_type": "execute_result"
    }
   ],
   "source": [
    "credit_score_range = df_historical[\"CreditScoreRangeUpper\"] - df_historical[\"CreditScoreRangeLower\"]\n",
    "\n",
    "credit_score_range.value_counts()"
   ]
  },
  {
   "cell_type": "code",
   "execution_count": 19,
   "metadata": {},
   "outputs": [
    {
     "name": "stderr",
     "output_type": "stream",
     "text": [
      "/home/greed/anaconda3/lib/python3.6/site-packages/pandas/core/frame.py:3694: SettingWithCopyWarning: \n",
      "A value is trying to be set on a copy of a slice from a DataFrame\n",
      "\n",
      "See the caveats in the documentation: http://pandas.pydata.org/pandas-docs/stable/indexing.html#indexing-view-versus-copy\n",
      "  errors=errors)\n",
      "/home/greed/anaconda3/lib/python3.6/site-packages/pandas/core/frame.py:3778: SettingWithCopyWarning: \n",
      "A value is trying to be set on a copy of a slice from a DataFrame\n",
      "\n",
      "See the caveats in the documentation: http://pandas.pydata.org/pandas-docs/stable/indexing.html#indexing-view-versus-copy\n",
      "  return super(DataFrame, self).rename(**kwargs)\n"
     ]
    }
   ],
   "source": [
    "df_historical.drop(\"CreditScoreRangeUpper\", axis=1, inplace=True)\n",
    "df_historical.rename(index=str, columns={\"CreditScoreRangeLower\": \"CreditScore\"}, inplace=True)"
   ]
  },
  {
   "cell_type": "code",
   "execution_count": 20,
   "metadata": {},
   "outputs": [
    {
     "name": "stdout",
     "output_type": "stream",
     "text": [
      "The correlation between employment status duration and loan default is -0.0059057028589972775, with a p-value of 0.1878775422194832\n"
     ]
    }
   ],
   "source": [
    "x = df_historical[\"EmploymentStatusDuration\"]\n",
    "y = df_historical[\"LoanStatus\"]\n",
    "\n",
    "r, p = st.pearsonr(x, y)\n",
    "\n",
    "print(\"The correlation between employment status duration and loan default is {}, with a p-value of {}\".format(r, p))"
   ]
  },
  {
   "cell_type": "code",
   "execution_count": 21,
   "metadata": {},
   "outputs": [
    {
     "name": "stderr",
     "output_type": "stream",
     "text": [
      "/home/greed/anaconda3/lib/python3.6/site-packages/pandas/core/frame.py:3694: SettingWithCopyWarning: \n",
      "A value is trying to be set on a copy of a slice from a DataFrame\n",
      "\n",
      "See the caveats in the documentation: http://pandas.pydata.org/pandas-docs/stable/indexing.html#indexing-view-versus-copy\n",
      "  errors=errors)\n"
     ]
    }
   ],
   "source": [
    "df_historical.drop(\"EmploymentStatusDuration\", axis=1, inplace=True)"
   ]
  },
  {
   "cell_type": "code",
   "execution_count": 22,
   "metadata": {},
   "outputs": [
    {
     "data": {
      "text/plain": [
       "(0, 0.8)"
      ]
     },
     "execution_count": 22,
     "metadata": {},
     "output_type": "execute_result"
    },
    {
     "data": {
      "image/png": "[encoded data removed]",
      "text/plain": [
       "<Figure size 432x288 with 2 Axes>"
      ]
     },
     "metadata": {},
     "output_type": "display_data"
    }
   ],
   "source": [
    "fig = plt.figure()\n",
    "\n",
    "ax1 = fig.add_subplot(221)\n",
    "sns.boxplot(x=\"LoanStatus\", y=\"StatedMonthlyIncome\", data=df_historical).set_ylim([0,20000])\n",
    "\n",
    "ax2 = fig.add_subplot(222)\n",
    "sns.boxplot(x=\"LoanStatus\", y=\"DebtToIncomeRatio\", data=df_historical).set_ylim([0,0.8])"
   ]
  },
  {
   "cell_type": "code",
   "execution_count": 23,
   "metadata": {},
   "outputs": [
    {
     "data": {
      "text/plain": [
       "(0, 2.5)"
      ]
     },
     "execution_count": 23,
     "metadata": {},
     "output_type": "execute_result"
    },
    {
     "data": {
      "image/png": "[encoded data removed]",
      "text/plain": [
       "<Figure size 432x288 with 2 Axes>"
      ]
     },
     "metadata": {},
     "output_type": "display_data"
    }
   ],
   "source": [
    "fig = plt.figure()\n",
    "\n",
    "ax1 = fig.add_subplot(221)\n",
    "sns.boxplot(x=\"LoanStatus\", y=\"AvailableBankcardCredit\", data=df_historical).set_ylim([-1000, 50000])\n",
    "\n",
    "ax2 = fig.add_subplot(222)\n",
    "sns.boxplot(x=\"LoanStatus\", y=\"BankcardUtilization\", data=df_historical).set_ylim([0,2.5])"
   ]
  },
  {
   "cell_type": "code",
   "execution_count": 24,
   "metadata": {},
   "outputs": [
    {
     "data": {
      "text/plain": [
       "(0, 1)"
      ]
     },
     "execution_count": 24,
     "metadata": {},
     "output_type": "execute_result"
    },
    {
     "data": {
      "image/png": "[encoded data removed]",
      "text/plain": [
       "<Figure size 432x288 with 1 Axes>"
      ]
     },
     "metadata": {},
     "output_type": "display_data"
    }
   ],
   "source": [
    "sns.barplot(x=\"IsBorrowerHomeowner\", y=\"LoanStatus\", data=df_historical).set_ylim([0,1])"
   ]
  },
  {
   "cell_type": "code",
   "execution_count": 25,
   "metadata": {},
   "outputs": [
    {
     "data": {
      "text/plain": [
       "(0, 20)"
      ]
     },
     "execution_count": 25,
     "metadata": {},
     "output_type": "execute_result"
    },
    {
     "data": {
      "image/png": "[encoded data removed]",
      "text/plain": [
       "<Figure size 432x288 with 4 Axes>"
      ]
     },
     "metadata": {},
     "output_type": "display_data"
    }
   ],
   "source": [
    "fig = plt.figure()\n",
    "\n",
    "ax1 = fig.add_subplot(221)\n",
    "sns.boxplot(x=\"LoanStatus\", y=\"CurrentCreditLines\", data=df_historical).set_ylim([0,40])\n",
    "\n",
    "ax2 = fig.add_subplot(222)\n",
    "sns.boxplot(x=\"LoanStatus\", y=\"TotalCreditLinespast7years\", data=df_historical).set_ylim([0,100])\n",
    "\n",
    "ax3 = fig.add_subplot(223)\n",
    "sns.boxplot(x=\"LoanStatus\", y=\"CurrentDelinquencies\", data=df_historical).set_ylim([0,5])\n",
    "\n",
    "ax4 = fig.add_subplot(224)\n",
    "sns.boxplot(x=\"LoanStatus\", y=\"DelinquenciesLast7Years\", data=df_historical).set_ylim([0,20])"
   ]
  },
  {
   "cell_type": "code",
   "execution_count": 26,
   "metadata": {},
   "outputs": [
    {
     "name": "stdout",
     "output_type": "stream",
     "text": [
      "The correlation between CurrentDelinquencies and loan default is -0.12107063477741749, with a p-value of 1.0845242651745478e-161\n",
      "The correlation between DelinquenciesLast7Years and loan default is -0.06975250066577986, with a p-value of 1.1176410321268129e-54\n"
     ]
    }
   ],
   "source": [
    "delinquency = [\"CurrentDelinquencies\", \"DelinquenciesLast7Years\"]\n",
    "y = df_historical[\"LoanStatus\"]\n",
    "\n",
    "for var in delinquency:\n",
    "    x = df_historical[var]\n",
    "    r, p = st.pearsonr(x, y)\n",
    "\n",
    "    print(\"The correlation between {} and loan default is {}, with a p-value of {}\".format(var, r, p))"
   ]
  },
  {
   "cell_type": "code",
   "execution_count": 27,
   "metadata": {},
   "outputs": [
    {
     "name": "stdout",
     "output_type": "stream",
     "text": [
      "<class 'pandas.core.frame.DataFrame'>\n",
      "Index: 49724 entries, 0 to 113935\n",
      "Data columns (total 45 columns):\n",
      "Term                                   49724 non-null int64\n",
      "LoanStatus                             49724 non-null int64\n",
      "BorrowerRate                           49724 non-null float64\n",
      "ProsperRating (numeric)                49724 non-null float64\n",
      "ProsperScore                           49724 non-null float64\n",
      "ListingCategory                        49724 non-null object\n",
      "BorrowerState                          49724 non-null object\n",
      "EmploymentStatus                       49724 non-null object\n",
      "IsBorrowerHomeowner                    49724 non-null bool\n",
      "CreditScore                            49724 non-null float64\n",
      "FirstRecordedCreditLine                49724 non-null object\n",
      "CurrentCreditLines                     49724 non-null float64\n",
      "OpenCreditLines                        49724 non-null float64\n",
      "TotalCreditLinespast7years             49724 non-null float64\n",
      "OpenRevolvingAccounts                  49724 non-null int64\n",
      "OpenRevolvingMonthlyPayment            49724 non-null float64\n",
      "InquiriesLast6Months                   49724 non-null float64\n",
      "TotalInquiries                         49724 non-null float64\n",
      "CurrentDelinquencies                   49724 non-null float64\n",
      "AmountDelinquent                       49724 non-null float64\n",
      "DelinquenciesLast7Years                49724 non-null float64\n",
      "PublicRecordsLast10Years               49724 non-null float64\n",
      "PublicRecordsLast12Months              49724 non-null float64\n",
      "RevolvingCreditBalance                 49724 non-null float64\n",
      "BankcardUtilization                    49724 non-null float64\n",
      "AvailableBankcardCredit                49724 non-null float64\n",
      "TotalTrades                            49724 non-null float64\n",
      "TradesNeverDelinquent (percentage)     49724 non-null float64\n",
      "TradesOpenedLast6Months                49724 non-null float64\n",
      "DebtToIncomeRatio                      49724 non-null float64\n",
      "IncomeVerifiable                       49724 non-null bool\n",
      "StatedMonthlyIncome                    49724 non-null float64\n",
      "TotalProsperLoans                      49724 non-null float64\n",
      "TotalProsperPaymentsBilled             49724 non-null float64\n",
      "OnTimeProsperPayments                  49724 non-null float64\n",
      "ProsperPaymentsLessThanOneMonthLate    49724 non-null float64\n",
      "ProsperPaymentsOneMonthPlusLate        49724 non-null float64\n",
      "ProsperPrincipalBorrowed               49724 non-null float64\n",
      "ProsperPrincipalOutstanding            49724 non-null float64\n",
      "LoanOriginalAmount                     49724 non-null int64\n",
      "MonthlyLoanPayment                     49724 non-null float64\n",
      "Recommendations                        49724 non-null int64\n",
      "InvestmentFromFriendsCount             49724 non-null int64\n",
      "InvestmentFromFriendsAmount            49724 non-null float64\n",
      "Investors                              49724 non-null int64\n",
      "dtypes: bool(2), float64(32), int64(7), object(4)\n",
      "memory usage: 18.0+ MB\n"
     ]
    },
    {
     "name": "stderr",
     "output_type": "stream",
     "text": [
      "/home/greed/anaconda3/lib/python3.6/site-packages/pandas/core/frame.py:3694: SettingWithCopyWarning: \n",
      "A value is trying to be set on a copy of a slice from a DataFrame\n",
      "\n",
      "See the caveats in the documentation: http://pandas.pydata.org/pandas-docs/stable/indexing.html#indexing-view-versus-copy\n",
      "  errors=errors)\n"
     ]
    }
   ],
   "source": [
    "df_historical.drop([\"CreditGrade\", \"BorrowerAPR\", \"LenderYield\", \"EstimatedEffectiveYield\", \"EstimatedLoss\", \"EstimatedReturn\",\n",
    "                 \"ProsperRating (Alpha)\", \"Occupation\", \"CurrentlyInGroup\", \"GroupKey\", \"IncomeRange\", \"PercentFunded\"], axis=1,\n",
    "                inplace=True)\n",
    "\n",
    "df_historical.info()"
   ]
  },
  {
   "cell_type": "code",
   "execution_count": 28,
   "metadata": {},
   "outputs": [
    {
     "name": "stderr",
     "output_type": "stream",
     "text": [
      "/home/greed/anaconda3/lib/python3.6/site-packages/ipykernel_launcher.py:1: SettingWithCopyWarning: \n",
      "A value is trying to be set on a copy of a slice from a DataFrame.\n",
      "Try using .loc[row_indexer,col_indexer] = value instead\n",
      "\n",
      "See the caveats in the documentation: http://pandas.pydata.org/pandas-docs/stable/indexing.html#indexing-view-versus-copy\n",
      "  \"\"\"Entry point for launching an IPython kernel.\n",
      "/home/greed/anaconda3/lib/python3.6/site-packages/ipykernel_launcher.py:2: SettingWithCopyWarning: \n",
      "A value is trying to be set on a copy of a slice from a DataFrame.\n",
      "Try using .loc[row_indexer,col_indexer] = value instead\n",
      "\n",
      "See the caveats in the documentation: http://pandas.pydata.org/pandas-docs/stable/indexing.html#indexing-view-versus-copy\n",
      "  \n"
     ]
    },
    {
     "data": {
      "text/plain": [
       "(0     1\n",
       " 11    0\n",
       " 12    0\n",
       " 15    1\n",
       " 21    0\n",
       " 23    0\n",
       " 26    0\n",
       " 27    1\n",
       " 30    0\n",
       " 33    0\n",
       " Name: IsBorrowerHomeowner, dtype: int64, 0     1\n",
       " 11    1\n",
       " 12    1\n",
       " 15    1\n",
       " 21    1\n",
       " 23    1\n",
       " 26    1\n",
       " 27    1\n",
       " 30    1\n",
       " 33    1\n",
       " Name: IncomeVerifiable, dtype: int64)"
      ]
     },
     "execution_count": 28,
     "metadata": {},
     "output_type": "execute_result"
    }
   ],
   "source": [
    "df_historical[\"IsBorrowerHomeowner\"] = df_historical[\"IsBorrowerHomeowner\"].astype(int)\n",
    "df_historical[\"IncomeVerifiable\"] = df_historical[\"IncomeVerifiable\"].astype(int)\n",
    "\n",
    "df_historical[\"IsBorrowerHomeowner\"][:10], df_historical[\"IncomeVerifiable\"][:10]"
   ]
  },
  {
   "cell_type": "code",
   "execution_count": 29,
   "metadata": {},
   "outputs": [
    {
     "data": {
      "text/plain": [
       "0     2001-10-11 00:00:00\n",
       "11    2000-11-13 00:00:00\n",
       "12    1996-11-09 00:00:00\n",
       "15    1999-03-08 00:00:00\n",
       "21    2003-06-20 00:00:00\n",
       "23    1998-06-09 00:00:00\n",
       "26    1975-10-26 00:00:00\n",
       "27    2000-04-11 00:00:00\n",
       "30    1988-06-01 00:00:00\n",
       "33    2003-12-01 00:00:00\n",
       "Name: FirstRecordedCreditLine, dtype: object"
      ]
     },
     "execution_count": 29,
     "metadata": {},
     "output_type": "execute_result"
    }
   ],
   "source": [
    "df_historical[\"FirstRecordedCreditLine\"][:10]"
   ]
  },
  {
   "cell_type": "code",
   "execution_count": 30,
   "metadata": {},
   "outputs": [
    {
     "name": "stderr",
     "output_type": "stream",
     "text": [
      "/home/greed/anaconda3/lib/python3.6/site-packages/ipykernel_launcher.py:3: SettingWithCopyWarning: \n",
      "A value is trying to be set on a copy of a slice from a DataFrame.\n",
      "Try using .loc[row_indexer,col_indexer] = value instead\n",
      "\n",
      "See the caveats in the documentation: http://pandas.pydata.org/pandas-docs/stable/indexing.html#indexing-view-versus-copy\n",
      "  This is separate from the ipykernel package so we can avoid doing imports until\n",
      "/home/greed/anaconda3/lib/python3.6/site-packages/pandas/core/frame.py:3694: SettingWithCopyWarning: \n",
      "A value is trying to be set on a copy of a slice from a DataFrame\n",
      "\n",
      "See the caveats in the documentation: http://pandas.pydata.org/pandas-docs/stable/indexing.html#indexing-view-versus-copy\n",
      "  errors=errors)\n"
     ]
    },
    {
     "data": {
      "text/plain": [
       "0     13\n",
       "11    14\n",
       "12    18\n",
       "15    15\n",
       "21    11\n",
       "23    16\n",
       "26    39\n",
       "27    14\n",
       "30    26\n",
       "33    11\n",
       "Name: YearsWithCredit, dtype: int64"
      ]
     },
     "execution_count": 30,
     "metadata": {},
     "output_type": "execute_result"
    }
   ],
   "source": [
    "first_credit_year = df_historical[\"FirstRecordedCreditLine\"].str[:4]\n",
    "\n",
    "df_historical[\"YearsWithCredit\"] = 2014 - pd.to_numeric(first_credit_year)\n",
    "\n",
    "df_historical.drop(\"FirstRecordedCreditLine\", axis=1, inplace=True)\n",
    "\n",
    "df_historical[\"YearsWithCredit\"][:10]"
   ]
  },
  {
   "cell_type": "code",
   "execution_count": 31,
   "metadata": {},
   "outputs": [
    {
     "name": "stdout",
     "output_type": "stream",
     "text": [
      "<class 'pandas.core.frame.DataFrame'>\n",
      "Index: 49724 entries, 0 to 113935\n",
      "Data columns (total 65 columns):\n",
      "Term                                   49724 non-null int64\n",
      "LoanStatus                             49724 non-null int64\n",
      "BorrowerRate                           49724 non-null float64\n",
      "ProsperRating (numeric)                49724 non-null float64\n",
      "ProsperScore                           49724 non-null float64\n",
      "BorrowerState                          49724 non-null object\n",
      "EmploymentStatus                       49724 non-null object\n",
      "IsBorrowerHomeowner                    49724 non-null int64\n",
      "CreditScore                            49724 non-null float64\n",
      "CurrentCreditLines                     49724 non-null float64\n",
      "OpenCreditLines                        49724 non-null float64\n",
      "TotalCreditLinespast7years             49724 non-null float64\n",
      "OpenRevolvingAccounts                  49724 non-null int64\n",
      "OpenRevolvingMonthlyPayment            49724 non-null float64\n",
      "InquiriesLast6Months                   49724 non-null float64\n",
      "TotalInquiries                         49724 non-null float64\n",
      "CurrentDelinquencies                   49724 non-null float64\n",
      "AmountDelinquent                       49724 non-null float64\n",
      "DelinquenciesLast7Years                49724 non-null float64\n",
      "PublicRecordsLast10Years               49724 non-null float64\n",
      "PublicRecordsLast12Months              49724 non-null float64\n",
      "RevolvingCreditBalance                 49724 non-null float64\n",
      "BankcardUtilization                    49724 non-null float64\n",
      "AvailableBankcardCredit                49724 non-null float64\n",
      "TotalTrades                            49724 non-null float64\n",
      "TradesNeverDelinquent (percentage)     49724 non-null float64\n",
      "TradesOpenedLast6Months                49724 non-null float64\n",
      "DebtToIncomeRatio                      49724 non-null float64\n",
      "IncomeVerifiable                       49724 non-null int64\n",
      "StatedMonthlyIncome                    49724 non-null float64\n",
      "TotalProsperLoans                      49724 non-null float64\n",
      "TotalProsperPaymentsBilled             49724 non-null float64\n",
      "OnTimeProsperPayments                  49724 non-null float64\n",
      "ProsperPaymentsLessThanOneMonthLate    49724 non-null float64\n",
      "ProsperPaymentsOneMonthPlusLate        49724 non-null float64\n",
      "ProsperPrincipalBorrowed               49724 non-null float64\n",
      "ProsperPrincipalOutstanding            49724 non-null float64\n",
      "LoanOriginalAmount                     49724 non-null int64\n",
      "MonthlyLoanPayment                     49724 non-null float64\n",
      "Recommendations                        49724 non-null int64\n",
      "InvestmentFromFriendsCount             49724 non-null int64\n",
      "InvestmentFromFriendsAmount            49724 non-null float64\n",
      "Investors                              49724 non-null int64\n",
      "YearsWithCredit                        49724 non-null int64\n",
      "Auto                                   49724 non-null uint8\n",
      "Baby                                   49724 non-null uint8\n",
      "Boat                                   49724 non-null uint8\n",
      "Business                               49724 non-null uint8\n",
      "Cosmetic                               49724 non-null uint8\n",
      "Debt                                   49724 non-null uint8\n",
      "Engagement                             49724 non-null uint8\n",
      "Green                                  49724 non-null uint8\n",
      "Household                              49724 non-null uint8\n",
      "LargePurchase                          49724 non-null uint8\n",
      "Medical                                49724 non-null uint8\n",
      "Motorcycle                             49724 non-null uint8\n",
      "Other                                  49724 non-null uint8\n",
      "Personal                               49724 non-null uint8\n",
      "RV                                     49724 non-null uint8\n",
      "Reno                                   49724 non-null uint8\n",
      "Student                                49724 non-null uint8\n",
      "Taxes                                  49724 non-null uint8\n",
      "Unknown                                49724 non-null uint8\n",
      "Vacation                               49724 non-null uint8\n",
      "Wedding                                49724 non-null uint8\n",
      "dtypes: float64(32), int64(10), object(2), uint8(21)\n",
      "memory usage: 19.3+ MB\n"
     ]
    }
   ],
   "source": [
    "category = pd.get_dummies(df_historical[\"ListingCategory\"])\n",
    "\n",
    "df_historical = df_historical.join(category, rsuffix=\"_category\")\n",
    "df_historical.drop(\"ListingCategory\", axis=1, inplace=True)\n",
    "\n",
    "df_historical.info()"
   ]
  },
  {
   "cell_type": "code",
   "execution_count": 32,
   "metadata": {},
   "outputs": [
    {
     "name": "stdout",
     "output_type": "stream",
     "text": [
      "<class 'pandas.core.frame.DataFrame'>\n",
      "Index: 49724 entries, 0 to 113935\n",
      "Data columns (total 71 columns):\n",
      "Term                                   49724 non-null int64\n",
      "LoanStatus                             49724 non-null int64\n",
      "BorrowerRate                           49724 non-null float64\n",
      "ProsperRating (numeric)                49724 non-null float64\n",
      "ProsperScore                           49724 non-null float64\n",
      "BorrowerState                          49724 non-null object\n",
      "IsBorrowerHomeowner                    49724 non-null int64\n",
      "CreditScore                            49724 non-null float64\n",
      "CurrentCreditLines                     49724 non-null float64\n",
      "OpenCreditLines                        49724 non-null float64\n",
      "TotalCreditLinespast7years             49724 non-null float64\n",
      "OpenRevolvingAccounts                  49724 non-null int64\n",
      "OpenRevolvingMonthlyPayment            49724 non-null float64\n",
      "InquiriesLast6Months                   49724 non-null float64\n",
      "TotalInquiries                         49724 non-null float64\n",
      "CurrentDelinquencies                   49724 non-null float64\n",
      "AmountDelinquent                       49724 non-null float64\n",
      "DelinquenciesLast7Years                49724 non-null float64\n",
      "PublicRecordsLast10Years               49724 non-null float64\n",
      "PublicRecordsLast12Months              49724 non-null float64\n",
      "RevolvingCreditBalance                 49724 non-null float64\n",
      "BankcardUtilization                    49724 non-null float64\n",
      "AvailableBankcardCredit                49724 non-null float64\n",
      "TotalTrades                            49724 non-null float64\n",
      "TradesNeverDelinquent (percentage)     49724 non-null float64\n",
      "TradesOpenedLast6Months                49724 non-null float64\n",
      "DebtToIncomeRatio                      49724 non-null float64\n",
      "IncomeVerifiable                       49724 non-null int64\n",
      "StatedMonthlyIncome                    49724 non-null float64\n",
      "TotalProsperLoans                      49724 non-null float64\n",
      "TotalProsperPaymentsBilled             49724 non-null float64\n",
      "OnTimeProsperPayments                  49724 non-null float64\n",
      "ProsperPaymentsLessThanOneMonthLate    49724 non-null float64\n",
      "ProsperPaymentsOneMonthPlusLate        49724 non-null float64\n",
      "ProsperPrincipalBorrowed               49724 non-null float64\n",
      "ProsperPrincipalOutstanding            49724 non-null float64\n",
      "LoanOriginalAmount                     49724 non-null int64\n",
      "MonthlyLoanPayment                     49724 non-null float64\n",
      "Recommendations                        49724 non-null int64\n",
      "InvestmentFromFriendsCount             49724 non-null int64\n",
      "InvestmentFromFriendsAmount            49724 non-null float64\n",
      "Investors                              49724 non-null int64\n",
      "YearsWithCredit                        49724 non-null int64\n",
      "Auto                                   49724 non-null uint8\n",
      "Baby                                   49724 non-null uint8\n",
      "Boat                                   49724 non-null uint8\n",
      "Business                               49724 non-null uint8\n",
      "Cosmetic                               49724 non-null uint8\n",
      "Debt                                   49724 non-null uint8\n",
      "Engagement                             49724 non-null uint8\n",
      "Green                                  49724 non-null uint8\n",
      "Household                              49724 non-null uint8\n",
      "LargePurchase                          49724 non-null uint8\n",
      "Medical                                49724 non-null uint8\n",
      "Motorcycle                             49724 non-null uint8\n",
      "Other                                  49724 non-null uint8\n",
      "Personal                               49724 non-null uint8\n",
      "RV                                     49724 non-null uint8\n",
      "Reno                                   49724 non-null uint8\n",
      "Student                                49724 non-null uint8\n",
      "Taxes                                  49724 non-null uint8\n",
      "Unknown                                49724 non-null uint8\n",
      "Vacation                               49724 non-null uint8\n",
      "Wedding                                49724 non-null uint8\n",
      "Employed                               49724 non-null uint8\n",
      "Full-time                              49724 non-null uint8\n",
      "Not employed                           49724 non-null uint8\n",
      "Other_employmentstatus                 49724 non-null uint8\n",
      "Part-time                              49724 non-null uint8\n",
      "Retired                                49724 non-null uint8\n",
      "Self-employed                          49724 non-null uint8\n",
      "dtypes: float64(32), int64(10), object(1), uint8(28)\n",
      "memory usage: 19.3+ MB\n"
     ]
    }
   ],
   "source": [
    "employment = pd.get_dummies(df_historical[\"EmploymentStatus\"])\n",
    "\n",
    "df_historical = df_historical.join(employment, rsuffix=\"_employmentstatus\")\n",
    "df_historical.drop(\"EmploymentStatus\", axis=1, inplace=True)\n",
    "\n",
    "df_historical.info()"
   ]
  },
  {
   "cell_type": "code",
   "execution_count": 33,
   "metadata": {},
   "outputs": [
    {
     "data": {
      "text/plain": [
       "0          StateLowRisk\n",
       "11    StateVeryHighRisk\n",
       "12    StateVeryHighRisk\n",
       "15    StateVeryHighRisk\n",
       "21        StateHighRisk\n",
       "23        StateHighRisk\n",
       "26         StateLowRisk\n",
       "27         StateLowRisk\n",
       "30        StateHighRisk\n",
       "33        StateHighRisk\n",
       "Name: BorrowerState, dtype: object"
      ]
     },
     "execution_count": 33,
     "metadata": {},
     "output_type": "execute_result"
    }
   ],
   "source": [
    "state_defaults = df_historical.groupby(\"BorrowerState\")[\"LoanStatus\"].mean()\n",
    "\n",
    "vlow_risk = sorted(state_defaults)[51]\n",
    "low_risk = sorted(state_defaults)[40]\n",
    "mid_risk = sorted(state_defaults)[29]\n",
    "high_risk = sorted(state_defaults)[19]\n",
    "vhigh_risk = sorted(state_defaults)[9]\n",
    "\n",
    "new_geography = {}\n",
    "\n",
    "for state in state_defaults.index:\n",
    "    if high_risk > state_defaults[state]:\n",
    "        v = \"StateVeryHighRisk\"\n",
    "    elif mid_risk > state_defaults[state] >= high_risk:\n",
    "        v = \"StateHighRisk\"\n",
    "    elif low_risk > state_defaults[state] >= mid_risk:\n",
    "        v = \"StateMidRisk\"\n",
    "    elif vlow_risk > state_defaults[state] >= low_risk:\n",
    "        v = \"StateLowRisk\"\n",
    "    else:\n",
    "        v = \"StateVeryLowRisk\"\n",
    "    new_geography[state] = v\n",
    "\n",
    "df_historical.replace(to_replace={\"BorrowerState\": new_geography}, inplace=True)\n",
    "                               \n",
    "df_historical[\"BorrowerState\"][:10]"
   ]
  },
  {
   "cell_type": "code",
   "execution_count": 34,
   "metadata": {},
   "outputs": [
    {
     "name": "stdout",
     "output_type": "stream",
     "text": [
      "<class 'pandas.core.frame.DataFrame'>\n",
      "Index: 49724 entries, 0 to 113935\n",
      "Data columns (total 75 columns):\n",
      "Term                                   49724 non-null int64\n",
      "LoanStatus                             49724 non-null int64\n",
      "BorrowerRate                           49724 non-null float64\n",
      "ProsperRating (numeric)                49724 non-null float64\n",
      "ProsperScore                           49724 non-null float64\n",
      "IsBorrowerHomeowner                    49724 non-null int64\n",
      "CreditScore                            49724 non-null float64\n",
      "CurrentCreditLines                     49724 non-null float64\n",
      "OpenCreditLines                        49724 non-null float64\n",
      "TotalCreditLinespast7years             49724 non-null float64\n",
      "OpenRevolvingAccounts                  49724 non-null int64\n",
      "OpenRevolvingMonthlyPayment            49724 non-null float64\n",
      "InquiriesLast6Months                   49724 non-null float64\n",
      "TotalInquiries                         49724 non-null float64\n",
      "CurrentDelinquencies                   49724 non-null float64\n",
      "AmountDelinquent                       49724 non-null float64\n",
      "DelinquenciesLast7Years                49724 non-null float64\n",
      "PublicRecordsLast10Years               49724 non-null float64\n",
      "PublicRecordsLast12Months              49724 non-null float64\n",
      "RevolvingCreditBalance                 49724 non-null float64\n",
      "BankcardUtilization                    49724 non-null float64\n",
      "AvailableBankcardCredit                49724 non-null float64\n",
      "TotalTrades                            49724 non-null float64\n",
      "TradesNeverDelinquent (percentage)     49724 non-null float64\n",
      "TradesOpenedLast6Months                49724 non-null float64\n",
      "DebtToIncomeRatio                      49724 non-null float64\n",
      "IncomeVerifiable                       49724 non-null int64\n",
      "StatedMonthlyIncome                    49724 non-null float64\n",
      "TotalProsperLoans                      49724 non-null float64\n",
      "TotalProsperPaymentsBilled             49724 non-null float64\n",
      "OnTimeProsperPayments                  49724 non-null float64\n",
      "ProsperPaymentsLessThanOneMonthLate    49724 non-null float64\n",
      "ProsperPaymentsOneMonthPlusLate        49724 non-null float64\n",
      "ProsperPrincipalBorrowed               49724 non-null float64\n",
      "ProsperPrincipalOutstanding            49724 non-null float64\n",
      "LoanOriginalAmount                     49724 non-null int64\n",
      "MonthlyLoanPayment                     49724 non-null float64\n",
      "Recommendations                        49724 non-null int64\n",
      "InvestmentFromFriendsCount             49724 non-null int64\n",
      "InvestmentFromFriendsAmount            49724 non-null float64\n",
      "Investors                              49724 non-null int64\n",
      "YearsWithCredit                        49724 non-null int64\n",
      "Auto                                   49724 non-null uint8\n",
      "Baby                                   49724 non-null uint8\n",
      "Boat                                   49724 non-null uint8\n",
      "Business                               49724 non-null uint8\n",
      "Cosmetic                               49724 non-null uint8\n",
      "Debt                                   49724 non-null uint8\n",
      "Engagement                             49724 non-null uint8\n",
      "Green                                  49724 non-null uint8\n",
      "Household                              49724 non-null uint8\n",
      "LargePurchase                          49724 non-null uint8\n",
      "Medical                                49724 non-null uint8\n",
      "Motorcycle                             49724 non-null uint8\n",
      "Other                                  49724 non-null uint8\n",
      "Personal                               49724 non-null uint8\n",
      "RV                                     49724 non-null uint8\n",
      "Reno                                   49724 non-null uint8\n",
      "Student                                49724 non-null uint8\n",
      "Taxes                                  49724 non-null uint8\n",
      "Unknown                                49724 non-null uint8\n",
      "Vacation                               49724 non-null uint8\n",
      "Wedding                                49724 non-null uint8\n",
      "Employed                               49724 non-null uint8\n",
      "Full-time                              49724 non-null uint8\n",
      "Not employed                           49724 non-null uint8\n",
      "Other_employmentstatus                 49724 non-null uint8\n",
      "Part-time                              49724 non-null uint8\n",
      "Retired                                49724 non-null uint8\n",
      "Self-employed                          49724 non-null uint8\n",
      "StateHighRisk                          49724 non-null uint8\n",
      "StateLowRisk                           49724 non-null uint8\n",
      "StateMidRisk                           49724 non-null uint8\n",
      "StateVeryHighRisk                      49724 non-null uint8\n",
      "StateVeryLowRisk                       49724 non-null uint8\n",
      "dtypes: float64(32), int64(10), uint8(33)\n",
      "memory usage: 19.1+ MB\n"
     ]
    }
   ],
   "source": [
    "state = pd.get_dummies(df_historical[\"BorrowerState\"])\n",
    "\n",
    "df_historical = df_historical.join(state, rsuffix=\"_state\")\n",
    "df_historical.drop(\"BorrowerState\", axis=1, inplace=True)\n",
    "\n",
    "df_historical.info()"
   ]
  },
  {
   "cell_type": "code",
   "execution_count": 35,
   "metadata": {},
   "outputs": [],
   "source": [
    "X = df_historical.drop(\"LoanStatus\", axis=1)\n",
    "y = df_historical[\"LoanStatus\"]"
   ]
  },
  {
   "cell_type": "code",
   "execution_count": 36,
   "metadata": {},
   "outputs": [],
   "source": [
    "X_train, X_test, y_train, y_test = train_test_split(X, y, test_size=0.1, random_state=42)"
   ]
  },
  {
   "cell_type": "code",
   "execution_count": 37,
   "metadata": {},
   "outputs": [
    {
     "data": {
      "text/plain": [
       "((44751, 74), (4973,))"
      ]
     },
     "execution_count": 37,
     "metadata": {},
     "output_type": "execute_result"
    }
   ],
   "source": [
    "X_train.shape, y_test.shape"
   ]
  },
  {
   "cell_type": "code",
   "execution_count": 38,
   "metadata": {},
   "outputs": [],
   "source": [
    "scaler = MinMaxScaler()\n",
    "scaler.fit(X_train)\n",
    "\n",
    "X_train_scaled = scaler.transform(X_train)\n",
    "X_test_scaled = scaler.transform(X_test)"
   ]
  },
  {
   "cell_type": "code",
   "execution_count": 39,
   "metadata": {},
   "outputs": [
    {
     "data": {
      "text/plain": [
       "array([0.17670123, 0.11838247, 0.09699779, 0.08818248, 0.07777252,\n",
       "       0.05738194, 0.05187247, 0.04803877, 0.04100425, 0.03370393])"
      ]
     },
     "execution_count": 39,
     "metadata": {},
     "output_type": "execute_result"
    }
   ],
   "source": [
    "pca = PCA(n_components=10)\n",
    "pca.fit(X_train_scaled)\n",
    "\n",
    "X_train_pca10 = pca.transform(X_train_scaled)\n",
    "X_test_pca10 = pca.transform(X_test_scaled)\n",
    "\n",
    "pca.explained_variance_ratio_"
   ]
  },
  {
   "cell_type": "code",
   "execution_count": 40,
   "metadata": {},
   "outputs": [
    {
     "data": {
      "text/plain": [
       "array([0.68228994, 0.24762512, 0.02503526])"
      ]
     },
     "execution_count": 40,
     "metadata": {},
     "output_type": "execute_result"
    }
   ],
   "source": [
    "pca = PCA(n_components=3)\n",
    "pca.fit(X_train)\n",
    "\n",
    "X_train_pca3 = pca.transform(X_train_scaled)\n",
    "X_test_pca3 = pca.transform(X_test_scaled)\n",
    "\n",
    "pca.explained_variance_ratio_"
   ]
  },
  {
   "cell_type": "code",
   "execution_count": 41,
   "metadata": {},
   "outputs": [],
   "source": [
    "X_train_reduce50 = SelectPercentile(percentile=50).fit_transform(X_train_scaled, y_train)\n",
    "X_test_reduce50 = SelectPercentile(percentile=50).fit_transform(X_test_scaled, y_test)\n",
    "\n",
    "X_train_reduce10 = SelectPercentile().fit_transform(X_train_scaled, y_train)\n",
    "X_test_reduce10 = SelectPercentile().fit_transform(X_test_scaled, y_test)"
   ]
  },
  {
   "cell_type": "code",
   "execution_count": 42,
   "metadata": {},
   "outputs": [
    {
     "data": {
      "text/html": [
       "<div>\n",
       "<style scoped>\n",
       "    .dataframe tbody tr th:only-of-type {\n",
       "        vertical-align: middle;\n",
       "    }\n",
       "\n",
       "    .dataframe tbody tr th {\n",
       "        vertical-align: top;\n",
       "    }\n",
       "\n",
       "    .dataframe thead th {\n",
       "        text-align: right;\n",
       "    }\n",
       "</style>\n",
       "<table border=\"1\" class=\"dataframe\">\n",
       "  <thead>\n",
       "    <tr style=\"text-align: right;\">\n",
       "      <th></th>\n",
       "      <th>MeanAccuracy</th>\n",
       "      <th>Precision</th>\n",
       "      <th>Recall</th>\n",
       "      <th>F1Score</th>\n",
       "      <th>TrainingTime (m)</th>\n",
       "      <th>TrainingTime (s)</th>\n",
       "    </tr>\n",
       "  </thead>\n",
       "  <tbody>\n",
       "    <tr>\n",
       "      <th>AdaBoost Classifier</th>\n",
       "      <td>0.710643</td>\n",
       "      <td>0.596942</td>\n",
       "      <td>0.344764</td>\n",
       "      <td>0.437069</td>\n",
       "      <td>0</td>\n",
       "      <td>12</td>\n",
       "    </tr>\n",
       "    <tr>\n",
       "      <th>AdaBoost Classifier (10% of features)</th>\n",
       "      <td>0.688454</td>\n",
       "      <td>0.566568</td>\n",
       "      <td>0.186544</td>\n",
       "      <td>0.280643</td>\n",
       "      <td>0</td>\n",
       "      <td>4</td>\n",
       "    </tr>\n",
       "    <tr>\n",
       "      <th>AdaBoost Classifier (50% of features)</th>\n",
       "      <td>0.706979</td>\n",
       "      <td>0.590977</td>\n",
       "      <td>0.328373</td>\n",
       "      <td>0.421956</td>\n",
       "      <td>0</td>\n",
       "      <td>10</td>\n",
       "    </tr>\n",
       "    <tr>\n",
       "      <th>AdaBoost Classifier (PCA: 10 components)</th>\n",
       "      <td>0.680678</td>\n",
       "      <td>0.530175</td>\n",
       "      <td>0.176188</td>\n",
       "      <td>0.264448</td>\n",
       "      <td>0</td>\n",
       "      <td>11</td>\n",
       "    </tr>\n",
       "    <tr>\n",
       "      <th>AdaBoost Classifier (PCA: 3 components)</th>\n",
       "      <td>0.672901</td>\n",
       "      <td>0.485894</td>\n",
       "      <td>0.058021</td>\n",
       "      <td>0.103625</td>\n",
       "      <td>0</td>\n",
       "      <td>3</td>\n",
       "    </tr>\n",
       "    <tr>\n",
       "      <th>AdaBoost Classifier (scaled data)</th>\n",
       "      <td>0.710643</td>\n",
       "      <td>0.596942</td>\n",
       "      <td>0.344764</td>\n",
       "      <td>0.437069</td>\n",
       "      <td>0</td>\n",
       "      <td>16</td>\n",
       "    </tr>\n",
       "    <tr>\n",
       "      <th>Decision Tree Classifier</th>\n",
       "      <td>0.629841</td>\n",
       "      <td>0.431512</td>\n",
       "      <td>0.441329</td>\n",
       "      <td>0.434323</td>\n",
       "      <td>0</td>\n",
       "      <td>4</td>\n",
       "    </tr>\n",
       "    <tr>\n",
       "      <th>Decision Tree Classifier (10% of features)</th>\n",
       "      <td>0.603026</td>\n",
       "      <td>0.396558</td>\n",
       "      <td>0.424045</td>\n",
       "      <td>0.412196</td>\n",
       "      <td>0</td>\n",
       "      <td>1</td>\n",
       "    </tr>\n",
       "    <tr>\n",
       "      <th>Decision Tree Classifier (50% of features)</th>\n",
       "      <td>0.627517</td>\n",
       "      <td>0.429128</td>\n",
       "      <td>0.443454</td>\n",
       "      <td>0.439045</td>\n",
       "      <td>0</td>\n",
       "      <td>3</td>\n",
       "    </tr>\n",
       "    <tr>\n",
       "      <th>Decision Tree Classifier (PCA: 10 components)</th>\n",
       "      <td>0.611316</td>\n",
       "      <td>0.404357</td>\n",
       "      <td>0.419518</td>\n",
       "      <td>0.409501</td>\n",
       "      <td>0</td>\n",
       "      <td>2</td>\n",
       "    </tr>\n",
       "    <tr>\n",
       "      <th>Decision Tree Classifier (PCA: 3 components)</th>\n",
       "      <td>0.573372</td>\n",
       "      <td>0.356346</td>\n",
       "      <td>0.385777</td>\n",
       "      <td>0.371280</td>\n",
       "      <td>0</td>\n",
       "      <td>1</td>\n",
       "    </tr>\n",
       "    <tr>\n",
       "      <th>Decision Tree Classifier (scaled data)</th>\n",
       "      <td>0.629438</td>\n",
       "      <td>0.432841</td>\n",
       "      <td>0.442083</td>\n",
       "      <td>0.439084</td>\n",
       "      <td>0</td>\n",
       "      <td>4</td>\n",
       "    </tr>\n",
       "    <tr>\n",
       "      <th>Gaussian Naive Bayes</th>\n",
       "      <td>0.676253</td>\n",
       "      <td>0.504882</td>\n",
       "      <td>0.360949</td>\n",
       "      <td>0.420506</td>\n",
       "      <td>0</td>\n",
       "      <td>0</td>\n",
       "    </tr>\n",
       "    <tr>\n",
       "      <th>Gaussian Naive Bayes (10% of features)</th>\n",
       "      <td>0.674287</td>\n",
       "      <td>0.500262</td>\n",
       "      <td>0.276662</td>\n",
       "      <td>0.356205</td>\n",
       "      <td>0</td>\n",
       "      <td>0</td>\n",
       "    </tr>\n",
       "    <tr>\n",
       "      <th>Gaussian Naive Bayes (50% of features)</th>\n",
       "      <td>0.673683</td>\n",
       "      <td>0.498992</td>\n",
       "      <td>0.380290</td>\n",
       "      <td>0.431611</td>\n",
       "      <td>0</td>\n",
       "      <td>0</td>\n",
       "    </tr>\n",
       "    <tr>\n",
       "      <th>Gaussian Naive Bayes (PCA: 10 components)</th>\n",
       "      <td>0.675963</td>\n",
       "      <td>0.507546</td>\n",
       "      <td>0.186613</td>\n",
       "      <td>0.272883</td>\n",
       "      <td>0</td>\n",
       "      <td>0</td>\n",
       "    </tr>\n",
       "    <tr>\n",
       "      <th>Gaussian Naive Bayes (PCA: 3 components)</th>\n",
       "      <td>0.672856</td>\n",
       "      <td>0.452353</td>\n",
       "      <td>0.028804</td>\n",
       "      <td>0.053610</td>\n",
       "      <td>0</td>\n",
       "      <td>0</td>\n",
       "    </tr>\n",
       "    <tr>\n",
       "      <th>Gaussian Naive Bayes (scaled data)</th>\n",
       "      <td>0.581171</td>\n",
       "      <td>0.431823</td>\n",
       "      <td>0.665054</td>\n",
       "      <td>0.506282</td>\n",
       "      <td>0</td>\n",
       "      <td>1</td>\n",
       "    </tr>\n",
       "    <tr>\n",
       "      <th>Linear Discriminant Analysis</th>\n",
       "      <td>0.706420</td>\n",
       "      <td>0.594627</td>\n",
       "      <td>0.311570</td>\n",
       "      <td>0.408819</td>\n",
       "      <td>0</td>\n",
       "      <td>1</td>\n",
       "    </tr>\n",
       "    <tr>\n",
       "      <th>Linear Discriminant Analysis (10% of features)</th>\n",
       "      <td>0.684409</td>\n",
       "      <td>0.541240</td>\n",
       "      <td>0.205200</td>\n",
       "      <td>0.297465</td>\n",
       "      <td>0</td>\n",
       "      <td>0</td>\n",
       "    </tr>\n",
       "    <tr>\n",
       "      <th>Linear Discriminant Analysis (50% of features)</th>\n",
       "      <td>0.702822</td>\n",
       "      <td>0.587758</td>\n",
       "      <td>0.295110</td>\n",
       "      <td>0.392876</td>\n",
       "      <td>0</td>\n",
       "      <td>0</td>\n",
       "    </tr>\n",
       "    <tr>\n",
       "      <th>Linear Discriminant Analysis (PCA: 10 components)</th>\n",
       "      <td>0.672968</td>\n",
       "      <td>0.493272</td>\n",
       "      <td>0.134559</td>\n",
       "      <td>0.211433</td>\n",
       "      <td>0</td>\n",
       "      <td>0</td>\n",
       "    </tr>\n",
       "    <tr>\n",
       "      <th>Linear Discriminant Analysis (PCA: 3 components)</th>\n",
       "      <td>0.673728</td>\n",
       "      <td>0.122222</td>\n",
       "      <td>0.000343</td>\n",
       "      <td>0.000684</td>\n",
       "      <td>0</td>\n",
       "      <td>1</td>\n",
       "    </tr>\n",
       "    <tr>\n",
       "      <th>Linear Discriminant Analysis (scaled data)</th>\n",
       "      <td>0.706420</td>\n",
       "      <td>0.594627</td>\n",
       "      <td>0.311570</td>\n",
       "      <td>0.408819</td>\n",
       "      <td>0</td>\n",
       "      <td>0</td>\n",
       "    </tr>\n",
       "    <tr>\n",
       "      <th>Logistic Regression</th>\n",
       "      <td>0.701951</td>\n",
       "      <td>0.596119</td>\n",
       "      <td>0.264043</td>\n",
       "      <td>0.365822</td>\n",
       "      <td>0</td>\n",
       "      <td>13</td>\n",
       "    </tr>\n",
       "    <tr>\n",
       "      <th>Logistic Regression (10% of features)</th>\n",
       "      <td>0.684007</td>\n",
       "      <td>0.541473</td>\n",
       "      <td>0.196352</td>\n",
       "      <td>0.288097</td>\n",
       "      <td>0</td>\n",
       "      <td>0</td>\n",
       "    </tr>\n",
       "    <tr>\n",
       "      <th>Logistic Regression (50% of features)</th>\n",
       "      <td>0.700051</td>\n",
       "      <td>0.578638</td>\n",
       "      <td>0.292504</td>\n",
       "      <td>0.388559</td>\n",
       "      <td>0</td>\n",
       "      <td>2</td>\n",
       "    </tr>\n",
       "    <tr>\n",
       "      <th>Logistic Regression (PCA: 10 components)</th>\n",
       "      <td>0.673303</td>\n",
       "      <td>0.495424</td>\n",
       "      <td>0.143063</td>\n",
       "      <td>0.222010</td>\n",
       "      <td>0</td>\n",
       "      <td>1</td>\n",
       "    </tr>\n",
       "    <tr>\n",
       "      <th>Logistic Regression (PCA: 3 components)</th>\n",
       "      <td>0.674175</td>\n",
       "      <td>0.000000</td>\n",
       "      <td>0.000000</td>\n",
       "      <td>0.000000</td>\n",
       "      <td>0</td>\n",
       "      <td>0</td>\n",
       "    </tr>\n",
       "    <tr>\n",
       "      <th>Logistic Regression (scaled data)</th>\n",
       "      <td>0.705258</td>\n",
       "      <td>0.590095</td>\n",
       "      <td>0.313010</td>\n",
       "      <td>0.408991</td>\n",
       "      <td>0</td>\n",
       "      <td>3</td>\n",
       "    </tr>\n",
       "    <tr>\n",
       "      <th>Random Forest Classifier</th>\n",
       "      <td>0.673124</td>\n",
       "      <td>0.503940</td>\n",
       "      <td>0.451684</td>\n",
       "      <td>0.475435</td>\n",
       "      <td>0</td>\n",
       "      <td>4</td>\n",
       "    </tr>\n",
       "    <tr>\n",
       "      <th>Random Forest Classifier (10% of features)</th>\n",
       "      <td>0.640768</td>\n",
       "      <td>0.448444</td>\n",
       "      <td>0.420685</td>\n",
       "      <td>0.430444</td>\n",
       "      <td>0</td>\n",
       "      <td>1</td>\n",
       "    </tr>\n",
       "    <tr>\n",
       "      <th>Random Forest Classifier (50% of features)</th>\n",
       "      <td>0.675314</td>\n",
       "      <td>0.499903</td>\n",
       "      <td>0.454770</td>\n",
       "      <td>0.478007</td>\n",
       "      <td>0</td>\n",
       "      <td>4</td>\n",
       "    </tr>\n",
       "    <tr>\n",
       "      <th>Random Forest Classifier (PCA: 10 components)</th>\n",
       "      <td>0.640678</td>\n",
       "      <td>0.448944</td>\n",
       "      <td>0.419382</td>\n",
       "      <td>0.434438</td>\n",
       "      <td>0</td>\n",
       "      <td>5</td>\n",
       "    </tr>\n",
       "    <tr>\n",
       "      <th>Random Forest Classifier (PCA: 3 components)</th>\n",
       "      <td>0.597551</td>\n",
       "      <td>0.369326</td>\n",
       "      <td>0.327343</td>\n",
       "      <td>0.346343</td>\n",
       "      <td>0</td>\n",
       "      <td>1</td>\n",
       "    </tr>\n",
       "    <tr>\n",
       "      <th>Random Forest Classifier (scaled data)</th>\n",
       "      <td>0.675627</td>\n",
       "      <td>0.501493</td>\n",
       "      <td>0.449422</td>\n",
       "      <td>0.478837</td>\n",
       "      <td>0</td>\n",
       "      <td>3</td>\n",
       "    </tr>\n",
       "  </tbody>\n",
       "</table>\n",
       "</div>"
      ],
      "text/plain": [
       "                                                   MeanAccuracy  Precision  \\\n",
       "AdaBoost Classifier                                    0.710643   0.596942   \n",
       "AdaBoost Classifier (10% of features)                  0.688454   0.566568   \n",
       "AdaBoost Classifier (50% of features)                  0.706979   0.590977   \n",
       "AdaBoost Classifier (PCA: 10 components)               0.680678   0.530175   \n",
       "AdaBoost Classifier (PCA: 3 components)                0.672901   0.485894   \n",
       "AdaBoost Classifier (scaled data)                      0.710643   0.596942   \n",
       "Decision Tree Classifier                               0.629841   0.431512   \n",
       "Decision Tree Classifier (10% of features)             0.603026   0.396558   \n",
       "Decision Tree Classifier (50% of features)             0.627517   0.429128   \n",
       "Decision Tree Classifier (PCA: 10 components)          0.611316   0.404357   \n",
       "Decision Tree Classifier (PCA: 3 components)           0.573372   0.356346   \n",
       "Decision Tree Classifier (scaled data)                 0.629438   0.432841   \n",
       "Gaussian Naive Bayes                                   0.676253   0.504882   \n",
       "Gaussian Naive Bayes (10% of features)                 0.674287   0.500262   \n",
       "Gaussian Naive Bayes (50% of features)                 0.673683   0.498992   \n",
       "Gaussian Naive Bayes (PCA: 10 components)              0.675963   0.507546   \n",
       "Gaussian Naive Bayes (PCA: 3 components)               0.672856   0.452353   \n",
       "Gaussian Naive Bayes (scaled data)                     0.581171   0.431823   \n",
       "Linear Discriminant Analysis                           0.706420   0.594627   \n",
       "Linear Discriminant Analysis (10% of features)         0.684409   0.541240   \n",
       "Linear Discriminant Analysis (50% of features)         0.702822   0.587758   \n",
       "Linear Discriminant Analysis (PCA: 10 components)      0.672968   0.493272   \n",
       "Linear Discriminant Analysis (PCA: 3 components)       0.673728   0.122222   \n",
       "Linear Discriminant Analysis (scaled data)             0.706420   0.594627   \n",
       "Logistic Regression                                    0.701951   0.596119   \n",
       "Logistic Regression (10% of features)                  0.684007   0.541473   \n",
       "Logistic Regression (50% of features)                  0.700051   0.578638   \n",
       "Logistic Regression (PCA: 10 components)               0.673303   0.495424   \n",
       "Logistic Regression (PCA: 3 components)                0.674175   0.000000   \n",
       "Logistic Regression (scaled data)                      0.705258   0.590095   \n",
       "Random Forest Classifier                               0.673124   0.503940   \n",
       "Random Forest Classifier (10% of features)             0.640768   0.448444   \n",
       "Random Forest Classifier (50% of features)             0.675314   0.499903   \n",
       "Random Forest Classifier (PCA: 10 components)          0.640678   0.448944   \n",
       "Random Forest Classifier (PCA: 3 components)           0.597551   0.369326   \n",
       "Random Forest Classifier (scaled data)                 0.675627   0.501493   \n",
       "\n",
       "                                                     Recall   F1Score  \\\n",
       "AdaBoost Classifier                                0.344764  0.437069   \n",
       "AdaBoost Classifier (10% of features)              0.186544  0.280643   \n",
       "AdaBoost Classifier (50% of features)              0.328373  0.421956   \n",
       "AdaBoost Classifier (PCA: 10 components)           0.176188  0.264448   \n",
       "AdaBoost Classifier (PCA: 3 components)            0.058021  0.103625   \n",
       "AdaBoost Classifier (scaled data)                  0.344764  0.437069   \n",
       "Decision Tree Classifier                           0.441329  0.434323   \n",
       "Decision Tree Classifier (10% of features)         0.424045  0.412196   \n",
       "Decision Tree Classifier (50% of features)         0.443454  0.439045   \n",
       "Decision Tree Classifier (PCA: 10 components)      0.419518  0.409501   \n",
       "Decision Tree Classifier (PCA: 3 components)       0.385777  0.371280   \n",
       "Decision Tree Classifier (scaled data)             0.442083  0.439084   \n",
       "Gaussian Naive Bayes                               0.360949  0.420506   \n",
       "Gaussian Naive Bayes (10% of features)             0.276662  0.356205   \n",
       "Gaussian Naive Bayes (50% of features)             0.380290  0.431611   \n",
       "Gaussian Naive Bayes (PCA: 10 components)          0.186613  0.272883   \n",
       "Gaussian Naive Bayes (PCA: 3 components)           0.028804  0.053610   \n",
       "Gaussian Naive Bayes (scaled data)                 0.665054  0.506282   \n",
       "Linear Discriminant Analysis                       0.311570  0.408819   \n",
       "Linear Discriminant Analysis (10% of features)     0.205200  0.297465   \n",
       "Linear Discriminant Analysis (50% of features)     0.295110  0.392876   \n",
       "Linear Discriminant Analysis (PCA: 10 components)  0.134559  0.211433   \n",
       "Linear Discriminant Analysis (PCA: 3 components)   0.000343  0.000684   \n",
       "Linear Discriminant Analysis (scaled data)         0.311570  0.408819   \n",
       "Logistic Regression                                0.264043  0.365822   \n",
       "Logistic Regression (10% of features)              0.196352  0.288097   \n",
       "Logistic Regression (50% of features)              0.292504  0.388559   \n",
       "Logistic Regression (PCA: 10 components)           0.143063  0.222010   \n",
       "Logistic Regression (PCA: 3 components)            0.000000  0.000000   \n",
       "Logistic Regression (scaled data)                  0.313010  0.408991   \n",
       "Random Forest Classifier                           0.451684  0.475435   \n",
       "Random Forest Classifier (10% of features)         0.420685  0.430444   \n",
       "Random Forest Classifier (50% of features)         0.454770  0.478007   \n",
       "Random Forest Classifier (PCA: 10 components)      0.419382  0.434438   \n",
       "Random Forest Classifier (PCA: 3 components)       0.327343  0.346343   \n",
       "Random Forest Classifier (scaled data)             0.449422  0.478837   \n",
       "\n",
       "                                                   TrainingTime (m)  \\\n",
       "AdaBoost Classifier                                               0   \n",
       "AdaBoost Classifier (10% of features)                             0   \n",
       "AdaBoost Classifier (50% of features)                             0   \n",
       "AdaBoost Classifier (PCA: 10 components)                          0   \n",
       "AdaBoost Classifier (PCA: 3 components)                           0   \n",
       "AdaBoost Classifier (scaled data)                                 0   \n",
       "Decision Tree Classifier                                          0   \n",
       "Decision Tree Classifier (10% of features)                        0   \n",
       "Decision Tree Classifier (50% of features)                        0   \n",
       "Decision Tree Classifier (PCA: 10 components)                     0   \n",
       "Decision Tree Classifier (PCA: 3 components)                      0   \n",
       "Decision Tree Classifier (scaled data)                            0   \n",
       "Gaussian Naive Bayes                                              0   \n",
       "Gaussian Naive Bayes (10% of features)                            0   \n",
       "Gaussian Naive Bayes (50% of features)                            0   \n",
       "Gaussian Naive Bayes (PCA: 10 components)                         0   \n",
       "Gaussian Naive Bayes (PCA: 3 components)                          0   \n",
       "Gaussian Naive Bayes (scaled data)                                0   \n",
       "Linear Discriminant Analysis                                      0   \n",
       "Linear Discriminant Analysis (10% of features)                    0   \n",
       "Linear Discriminant Analysis (50% of features)                    0   \n",
       "Linear Discriminant Analysis (PCA: 10 components)                 0   \n",
       "Linear Discriminant Analysis (PCA: 3 components)                  0   \n",
       "Linear Discriminant Analysis (scaled data)                        0   \n",
       "Logistic Regression                                               0   \n",
       "Logistic Regression (10% of features)                             0   \n",
       "Logistic Regression (50% of features)                             0   \n",
       "Logistic Regression (PCA: 10 components)                          0   \n",
       "Logistic Regression (PCA: 3 components)                           0   \n",
       "Logistic Regression (scaled data)                                 0   \n",
       "Random Forest Classifier                                          0   \n",
       "Random Forest Classifier (10% of features)                        0   \n",
       "Random Forest Classifier (50% of features)                        0   \n",
       "Random Forest Classifier (PCA: 10 components)                     0   \n",
       "Random Forest Classifier (PCA: 3 components)                      0   \n",
       "Random Forest Classifier (scaled data)                            0   \n",
       "\n",
       "                                                   TrainingTime (s)  \n",
       "AdaBoost Classifier                                              12  \n",
       "AdaBoost Classifier (10% of features)                             4  \n",
       "AdaBoost Classifier (50% of features)                            10  \n",
       "AdaBoost Classifier (PCA: 10 components)                         11  \n",
       "AdaBoost Classifier (PCA: 3 components)                           3  \n",
       "AdaBoost Classifier (scaled data)                                16  \n",
       "Decision Tree Classifier                                          4  \n",
       "Decision Tree Classifier (10% of features)                        1  \n",
       "Decision Tree Classifier (50% of features)                        3  \n",
       "Decision Tree Classifier (PCA: 10 components)                     2  \n",
       "Decision Tree Classifier (PCA: 3 components)                      1  \n",
       "Decision Tree Classifier (scaled data)                            4  \n",
       "Gaussian Naive Bayes                                              0  \n",
       "Gaussian Naive Bayes (10% of features)                            0  \n",
       "Gaussian Naive Bayes (50% of features)                            0  \n",
       "Gaussian Naive Bayes (PCA: 10 components)                         0  \n",
       "Gaussian Naive Bayes (PCA: 3 components)                          0  \n",
       "Gaussian Naive Bayes (scaled data)                                1  \n",
       "Linear Discriminant Analysis                                      1  \n",
       "Linear Discriminant Analysis (10% of features)                    0  \n",
       "Linear Discriminant Analysis (50% of features)                    0  \n",
       "Linear Discriminant Analysis (PCA: 10 components)                 0  \n",
       "Linear Discriminant Analysis (PCA: 3 components)                  1  \n",
       "Linear Discriminant Analysis (scaled data)                        0  \n",
       "Logistic Regression                                              13  \n",
       "Logistic Regression (10% of features)                             0  \n",
       "Logistic Regression (50% of features)                             2  \n",
       "Logistic Regression (PCA: 10 components)                          1  \n",
       "Logistic Regression (PCA: 3 components)                           0  \n",
       "Logistic Regression (scaled data)                                 3  \n",
       "Random Forest Classifier                                          4  \n",
       "Random Forest Classifier (10% of features)                        1  \n",
       "Random Forest Classifier (50% of features)                        4  \n",
       "Random Forest Classifier (PCA: 10 components)                     5  \n",
       "Random Forest Classifier (PCA: 3 components)                      1  \n",
       "Random Forest Classifier (scaled data)                            3  "
      ]
     },
     "execution_count": 42,
     "metadata": {},
     "output_type": "execute_result"
    }
   ],
   "source": [
    "import warnings\n",
    "\n",
    "models = {\"Logistic Regression\": LogisticRegression(), \"Linear Discriminant Analysis\": LinearDiscriminantAnalysis(),\n",
    "          \"Gaussian Naive Bayes\": GaussianNB(), \"Decision Tree Classifier\": DecisionTreeClassifier(),\n",
    "          \"Random Forest Classifier\": RandomForestClassifier(), \"AdaBoost Classifier\": AdaBoostClassifier()}\n",
    "\n",
    "data = {\"\": X_train, \"(scaled data)\": X_train_scaled, \"(PCA: 10 components)\": X_train_pca10, \"(PCA: 3 components)\": X_train_pca3,\n",
    "        \"(50% of features)\": X_train_reduce50, \"(10% of features)\": X_train_reduce10}\n",
    "\n",
    "res = {}\n",
    "\n",
    "with warnings.catch_warnings():\n",
    "    warnings.simplefilter(\"ignore\")\n",
    "    \n",
    "    for name, model in models.items():\n",
    "        for scale, X in data.items():\n",
    "            n = name + \" \" + scale\n",
    "            clf = model\n",
    "            s0, m0 = datetime.datetime.now().time().second, datetime.datetime.now().time().minute\n",
    "            acc = cross_val_score(clf, X, y_train).mean()\n",
    "            s1, m1 = datetime.datetime.now().time().second, datetime.datetime.now().time().minute\n",
    "            y_pred = cross_val_predict(clf, X, y_train)\n",
    "            default_recall = make_scorer(recall_score, pos_label=0, average=\"binary\")\n",
    "            default_precision = make_scorer(precision_score, pos_label=0, average=\"binary\")\n",
    "            default_fscore = make_scorer(f1_score, pos_label=0, average=\"binary\")\n",
    "            rec = cross_val_score(clf, X, y_train, scoring=default_recall).mean()\n",
    "            prec = cross_val_score(clf, X, y_train, scoring=default_precision).mean()\n",
    "            f1 = cross_val_score(clf, X, y_train, scoring=default_fscore).mean()\n",
    "            m_delta = m1 - m0\n",
    "            s_delta = s1 - s0\n",
    "            if s_delta < 0:\n",
    "                s_delta = 60 + s_delta\n",
    "                m_delta -= 1\n",
    "\n",
    "            res[n] = {\"MeanAccuracy\": acc, \"Precision\": prec, \"Recall\": rec, \"F1Score\": f1, \n",
    "                      \"TrainingTime (m)\": m_delta, \"TrainingTime (s)\": s_delta}\n",
    "\n",
    "results = pd.DataFrame.from_dict(res, orient=\"index\")\n",
    "results = results[[\"MeanAccuracy\", \"Precision\", \"Recall\", \"F1Score\", \"TrainingTime (m)\", \"TrainingTime (s)\"]]\n",
    "\n",
    "results"
   ]
  },
  {
   "cell_type": "code",
   "execution_count": 47,
   "metadata": {},
   "outputs": [
    {
     "data": {
      "text/plain": [
       "('Gaussian Naive Bayes (scaled data)', 0.6650539031721078)"
      ]
     },
     "execution_count": 47,
     "metadata": {},
     "output_type": "execute_result"
    }
   ],
   "source": [
    "results[\"Recall\"].idxmax(), results[\"Recall\"].max()"
   ]
  },
  {
   "cell_type": "code",
   "execution_count": 48,
   "metadata": {},
   "outputs": [
    {
     "data": {
      "text/plain": [
       "({'class_weight': {0: 10, 1: 1}, 'min_samples_split': 20}, 0.7401413845668401)"
      ]
     },
     "execution_count": 48,
     "metadata": {},
     "output_type": "execute_result"
    }
   ],
   "source": [
    "default_recall = make_scorer(recall_score, pos_label=0)\n",
    "\n",
    "param_grid = {\"class_weight\": [\"balanced\", {0: 2, 1: 1}, {0: 5, 1: 1}, {0: 10, 1: 1}], \"min_samples_split\": [2, 3, 5, 10, 20]}\n",
    "\n",
    "forest = RandomForestClassifier()\n",
    "clf = GridSearchCV(forest, param_grid=param_grid, scoring=default_recall)\n",
    "\n",
    "clf.fit(X_train_reduce50, y_train)\n",
    "\n",
    "clf.best_params_, clf.best_score_ "
   ]
  },
  {
   "cell_type": "code",
   "execution_count": 49,
   "metadata": {},
   "outputs": [
    {
     "data": {
      "text/plain": [
       "0.6129666011787819"
      ]
     },
     "execution_count": 49,
     "metadata": {},
     "output_type": "execute_result"
    }
   ],
   "source": [
    "(.7389 - .4581) / .4581"
   ]
  },
  {
   "cell_type": "code",
   "execution_count": 50,
   "metadata": {},
   "outputs": [
    {
     "name": "stdout",
     "output_type": "stream",
     "text": [
      " Recall: 0.7369179514226639 \n",
      " Precision: 0.43694604762494843 \n",
      " F1 Score: 0.5513736781183208\n"
     ]
    }
   ],
   "source": [
    "default_precision = make_scorer(precision_score, pos_label=0, average=\"binary\")\n",
    "default_fscore = make_scorer(f1_score, pos_label=0, average=\"binary\")\n",
    "\n",
    "rec = cross_val_score(clf, X_train_reduce50, y_train, scoring=default_recall).mean()\n",
    "prec = cross_val_score(clf, X_train_reduce50, y_train, scoring=default_precision).mean()\n",
    "f = cross_val_score(clf, X_train_reduce50, y_train, scoring=default_fscore).mean()\n",
    "\n",
    "\n",
    "print(\" Recall: {} \\n Precision: {} \\n F1 Score: {}\".format(rec, prec, f))"
   ]
  },
  {
   "cell_type": "code",
   "execution_count": null,
   "metadata": {},
   "outputs": [],
   "source": []
  }
 ],
 "metadata": {
  "kernelspec": {
   "display_name": "Python 3",
   "language": "python",
   "name": "python3"
  },
  "language_info": {
   "codemirror_mode": {
    "name": "ipython",
    "version": 3
   },
   "file_extension": ".py",
   "mimetype": "text/x-python",
   "name": "python",
   "nbconvert_exporter": "python",
   "pygments_lexer": "ipython3",
   "version": "3.6.5"
  }
 },
 "nbformat": 4,
 "nbformat_minor": 2
}
